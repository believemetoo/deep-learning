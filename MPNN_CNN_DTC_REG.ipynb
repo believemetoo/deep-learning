{
 "cells": [
  {
   "cell_type": "code",
   "execution_count": 1,
   "metadata": {},
   "outputs": [],
   "source": [
    "import warnings\n",
    "warnings.filterwarnings(\"ignore\")"
   ]
  },
  {
   "cell_type": "code",
   "execution_count": 2,
   "metadata": {},
   "outputs": [
    {
     "name": "stderr",
     "output_type": "stream",
     "text": [
      "WARNING:root:No normalization for BCUT2D_MWHI\n",
      "WARNING:root:No normalization for BCUT2D_MWLOW\n",
      "WARNING:root:No normalization for BCUT2D_CHGHI\n",
      "WARNING:root:No normalization for BCUT2D_CHGLO\n",
      "WARNING:root:No normalization for BCUT2D_LOGPHI\n",
      "WARNING:root:No normalization for BCUT2D_LOGPLOW\n",
      "WARNING:root:No normalization for BCUT2D_MRHI\n",
      "WARNING:root:No normalization for BCUT2D_MRLOW\n"
     ]
    }
   ],
   "source": [
    "from DeepPurpose import utils, models, dataset\n",
    "from DeepPurpose.utils import *"
   ]
  },
  {
   "cell_type": "code",
   "execution_count": 3,
   "metadata": {},
   "outputs": [
    {
     "name": "stdout",
     "output_type": "stream",
     "text": [
      "/root/data/DeepPurpose\n"
     ]
    }
   ],
   "source": [
    "import numpy as np\n",
    "import pandas as pd\n",
    "import json\n",
    "import os \n",
    "print(os.path.abspath('.'))"
   ]
  },
  {
   "cell_type": "code",
   "execution_count": 4,
   "metadata": {},
   "outputs": [
    {
     "name": "stdout",
     "output_type": "stream",
     "text": [
      "Done!\n"
     ]
    }
   ],
   "source": [
    "Smile = np.load(\"DTC_smiles_reg.npy\", allow_pickle=True)\n",
    "Target = np.load(\"DTC_targets_reg.npy\", allow_pickle=True)\n",
    "y = np.load(\"DTC_y_reg.npy\", allow_pickle=True)\n",
    "print('Done!')"
   ]
  },
  {
   "cell_type": "code",
   "execution_count": 5,
   "metadata": {},
   "outputs": [
    {
     "name": "stdout",
     "output_type": "stream",
     "text": [
      "Drug 1: CCCN1C(C)=CC=C2C(=O)NC(N)N=C21\n",
      "Target 1: MVGSLNCIVAVSQNMGIGKNGDLPWPPLRNEFRYFQRMTTTSSVEGKQNLVIMGKKTWFSIPEKNRPLKGRINLVLSRELKEPPQGAHFLSRSLDDALKLTEQPELANKVDMVWIVGGSSVYKEAMNHPGHLKLFVTRIMQDFESDTFFPEIDLEKYKLLPEYPGVLSDVQEEKGIKYKFEVYEKND\n",
      "Score 1: 9.221848749616356\n"
     ]
    }
   ],
   "source": [
    "X_drugs, X_targets, y = Smile, Target, y\n",
    "print('Drug 1: ' + X_drugs[0])\n",
    "print('Target 1: ' + X_targets[0])\n",
    "print('Score 1: ' + str(y[0]))"
   ]
  },
  {
   "cell_type": "code",
   "execution_count": 6,
   "metadata": {},
   "outputs": [
    {
     "data": {
      "text/plain": [
       "(61479,)"
      ]
     },
     "execution_count": 6,
     "metadata": {},
     "output_type": "execute_result"
    }
   ],
   "source": [
    "y.shape"
   ]
  },
  {
   "cell_type": "code",
   "execution_count": 7,
   "metadata": {},
   "outputs": [],
   "source": [
    "drug_encoding, target_encoding = 'MPNN', 'CNN'"
   ]
  },
  {
   "cell_type": "code",
   "execution_count": 8,
   "metadata": {
    "scrolled": true
   },
   "outputs": [
    {
     "name": "stdout",
     "output_type": "stream",
     "text": [
      "in total: 61479 drug-target pairs\n",
      "encoding drug...\n",
      "unique drugs: 7626\n",
      "drug encoding finished...\n",
      "encoding protein...\n",
      "unique target sequence: 895\n",
      "protein encoding finished...\n",
      "splitting dataset...\n",
      "Done.\n"
     ]
    },
    {
     "data": {
      "text/html": [
       "<div>\n",
       "<style scoped>\n",
       "    .dataframe tbody tr th:only-of-type {\n",
       "        vertical-align: middle;\n",
       "    }\n",
       "\n",
       "    .dataframe tbody tr th {\n",
       "        vertical-align: top;\n",
       "    }\n",
       "\n",
       "    .dataframe thead th {\n",
       "        text-align: right;\n",
       "    }\n",
       "</style>\n",
       "<table border=\"1\" class=\"dataframe\">\n",
       "  <thead>\n",
       "    <tr style=\"text-align: right;\">\n",
       "      <th></th>\n",
       "      <th>SMILES</th>\n",
       "      <th>Target Sequence</th>\n",
       "      <th>Label</th>\n",
       "      <th>drug_encoding</th>\n",
       "      <th>target_encoding</th>\n",
       "    </tr>\n",
       "  </thead>\n",
       "  <tbody>\n",
       "    <tr>\n",
       "      <th>0</th>\n",
       "      <td>CCCN1C(C)=CC=C2C(=O)NC(N)N=C21</td>\n",
       "      <td>MVGSLNCIVAVSQNMGIGKNGDLPWPPLRNEFRYFQRMTTTSSVEG...</td>\n",
       "      <td>9.221849</td>\n",
       "      <td>[[[tensor(1.), tensor(0.), tensor(0.), tensor(...</td>\n",
       "      <td>[M, V, G, S, L, N, C, I, V, A, V, S, Q, N, M, ...</td>\n",
       "    </tr>\n",
       "  </tbody>\n",
       "</table>\n",
       "</div>"
      ],
      "text/plain": [
       "                           SMILES  \\\n",
       "0  CCCN1C(C)=CC=C2C(=O)NC(N)N=C21   \n",
       "\n",
       "                                     Target Sequence     Label  \\\n",
       "0  MVGSLNCIVAVSQNMGIGKNGDLPWPPLRNEFRYFQRMTTTSSVEG...  9.221849   \n",
       "\n",
       "                                       drug_encoding  \\\n",
       "0  [[[tensor(1.), tensor(0.), tensor(0.), tensor(...   \n",
       "\n",
       "                                     target_encoding  \n",
       "0  [M, V, G, S, L, N, C, I, V, A, V, S, Q, N, M, ...  "
      ]
     },
     "execution_count": 8,
     "metadata": {},
     "output_type": "execute_result"
    }
   ],
   "source": [
    "train, val, test = utils.data_process(X_drugs, X_targets, y, \n",
    "                                drug_encoding, target_encoding, \n",
    "                                split_method='train_full',frac=[0.8,0.1,0.1],\n",
    "                                random_seed = 1)\n",
    "train.head(1)"
   ]
  },
  {
   "cell_type": "code",
   "execution_count": 9,
   "metadata": {},
   "outputs": [
    {
     "data": {
      "text/plain": [
       "{'input_dim_drug': 1024,\n",
       " 'input_dim_protein': 8420,\n",
       " 'hidden_dim_drug': 128,\n",
       " 'hidden_dim_protein': 256,\n",
       " 'cls_hidden_dims': [1024, 1024, 512],\n",
       " 'batch_size': 1024,\n",
       " 'train_epoch': 100,\n",
       " 'test_every_X_epoch': 10,\n",
       " 'LR': 0.001,\n",
       " 'drug_encoding': 'MPNN',\n",
       " 'target_encoding': 'CNN',\n",
       " 'result_folder': './result/',\n",
       " 'binary': False,\n",
       " 'num_workers': 10,\n",
       " 'mpnn_hidden_size': 128,\n",
       " 'mpnn_depth': 3,\n",
       " 'cnn_target_filters': [32, 64, 96],\n",
       " 'cnn_target_kernels': [4, 8, 12],\n",
       " 'decay': 0}"
      ]
     },
     "execution_count": 9,
     "metadata": {},
     "output_type": "execute_result"
    }
   ],
   "source": [
    "# use pre-trained model\n",
    "model = models.model_pretrained(path_dir = './pre-trained/MPNN_CNN_DTC/')\n",
    "model.config"
   ]
  },
  {
   "cell_type": "code",
   "execution_count": 10,
   "metadata": {},
   "outputs": [
    {
     "data": {
      "text/plain": [
       "'\\nconfig = utils.generate_config(drug_encoding = drug_encoding, \\n                         target_encoding = target_encoding, \\n                         #cls_hidden_dims = [1024,1024,512], \\n                         train_epoch = 50, \\n                         #test_every_X_epoch = 10, \\n                         LR = 0.001, \\n                         #decay = 0.001,\\n                         batch_size = 1024,\\n                         #hidden_dim_drug = 128,\\n                         #mpnn_hidden_size = 128,\\n                         #mpnn_depth = 3, \\n                         #cnn_drug_filters = [32,64,96],\\n                         #cnn_drug_kernels = [4,6,8], \\n                         #cnn_target_filters = [32,64,96],\\n                         #cnn_target_kernels = [4,8,12],\\n                         #transformer_n_layer_target = 2,\\n                         num_workers = 10\\n                              )\\n'"
      ]
     },
     "execution_count": 10,
     "metadata": {},
     "output_type": "execute_result"
    }
   ],
   "source": [
    "'''\n",
    "config = utils.generate_config(drug_encoding = drug_encoding, \n",
    "                         target_encoding = target_encoding, \n",
    "                         #cls_hidden_dims = [1024,1024,512], \n",
    "                         train_epoch = 50, \n",
    "                         #test_every_X_epoch = 10, \n",
    "                         LR = 0.001, \n",
    "                         #decay = 0.001,\n",
    "                         batch_size = 1024,\n",
    "                         #hidden_dim_drug = 128,\n",
    "                         #mpnn_hidden_size = 128,\n",
    "                         #mpnn_depth = 3, \n",
    "                         #cnn_drug_filters = [32,64,96],\n",
    "                         #cnn_drug_kernels = [4,6,8], \n",
    "                         #cnn_target_filters = [32,64,96],\n",
    "                         #cnn_target_kernels = [4,8,12],\n",
    "                         #transformer_n_layer_target = 2,\n",
    "                         num_workers = 10\n",
    "                              )\n",
    "'''"
   ]
  },
  {
   "cell_type": "code",
   "execution_count": 11,
   "metadata": {},
   "outputs": [],
   "source": [
    "#model = models.model_initialize(**config)"
   ]
  },
  {
   "cell_type": "code",
   "execution_count": 12,
   "metadata": {},
   "outputs": [],
   "source": [
    "model.config['train_epoch'] = 50\n",
    "#model.config['batch_size'] = 1024"
   ]
  },
  {
   "cell_type": "code",
   "execution_count": 13,
   "metadata": {},
   "outputs": [
    {
     "name": "stdout",
     "output_type": "stream",
     "text": [
      "Let's use 1 GPU!\n",
      "--- Data Preparation ---\n",
      "--- Go for Training ---\n",
      "Training at Epoch 1 iteration 0 with loss 0.07312. Total time 0.00138 hours\n",
      "Validation at Epoch 1 , MSE: 0.06310 , Pearson Correlation: 0.98056 with p-value: 0.0 , Concordance Index: 0.96909\n",
      "Training at Epoch 2 iteration 0 with loss 0.06884. Total time 0.05222 hours\n",
      "Validation at Epoch 2 , MSE: 0.05778 , Pearson Correlation: 0.98093 with p-value: 0.0 , Concordance Index: 0.96912\n",
      "Training at Epoch 3 iteration 0 with loss 0.06077. Total time 0.10305 hours\n",
      "Validation at Epoch 3 , MSE: 0.05577 , Pearson Correlation: 0.98174 with p-value: 0.0 , Concordance Index: 0.97085\n",
      "Training at Epoch 4 iteration 0 with loss 0.09425. Total time 0.15333 hours\n",
      "Validation at Epoch 4 , MSE: 0.05584 , Pearson Correlation: 0.98148 with p-value: 0.0 , Concordance Index: 0.97143\n",
      "Training at Epoch 5 iteration 0 with loss 0.07958. Total time 0.20388 hours\n",
      "Validation at Epoch 5 , MSE: 0.05639 , Pearson Correlation: 0.98148 with p-value: 0.0 , Concordance Index: 0.96902\n",
      "Training at Epoch 6 iteration 0 with loss 0.05032. Total time 0.255 hours\n",
      "Validation at Epoch 6 , MSE: 0.05518 , Pearson Correlation: 0.98171 with p-value: 0.0 , Concordance Index: 0.97049\n",
      "Training at Epoch 7 iteration 0 with loss 0.06811. Total time 0.30694 hours\n",
      "Validation at Epoch 7 , MSE: 0.05505 , Pearson Correlation: 0.98168 with p-value: 0.0 , Concordance Index: 0.97052\n",
      "Training at Epoch 8 iteration 0 with loss 0.05686. Total time 0.35805 hours\n",
      "Validation at Epoch 8 , MSE: 0.05614 , Pearson Correlation: 0.98164 with p-value: 0.0 , Concordance Index: 0.96963\n",
      "Training at Epoch 9 iteration 0 with loss 0.06471. Total time 0.40888 hours\n",
      "Validation at Epoch 9 , MSE: 0.06075 , Pearson Correlation: 0.98042 with p-value: 0.0 , Concordance Index: 0.96891\n",
      "Training at Epoch 10 iteration 0 with loss 0.06673. Total time 0.46027 hours\n",
      "Validation at Epoch 10 , MSE: 0.06434 , Pearson Correlation: 0.98055 with p-value: 0.0 , Concordance Index: 0.96904\n",
      "Training at Epoch 11 iteration 0 with loss 0.07786. Total time 0.51111 hours\n",
      "Validation at Epoch 11 , MSE: 0.07672 , Pearson Correlation: 0.97988 with p-value: 0.0 , Concordance Index: 0.96920\n",
      "Training at Epoch 12 iteration 0 with loss 0.09552. Total time 0.56194 hours\n",
      "Validation at Epoch 12 , MSE: 0.05785 , Pearson Correlation: 0.98109 with p-value: 0.0 , Concordance Index: 0.96847\n",
      "Training at Epoch 13 iteration 0 with loss 0.07499. Total time 0.61194 hours\n",
      "Validation at Epoch 13 , MSE: 0.05655 , Pearson Correlation: 0.98121 with p-value: 0.0 , Concordance Index: 0.97049\n",
      "Training at Epoch 14 iteration 0 with loss 0.07142. Total time 0.66194 hours\n",
      "Validation at Epoch 14 , MSE: 0.05576 , Pearson Correlation: 0.98152 with p-value: 0.0 , Concordance Index: 0.97062\n",
      "Training at Epoch 15 iteration 0 with loss 0.10027. Total time 0.71194 hours\n",
      "Validation at Epoch 15 , MSE: 0.05862 , Pearson Correlation: 0.98161 with p-value: 0.0 , Concordance Index: 0.97076\n",
      "Training at Epoch 16 iteration 0 with loss 0.07111. Total time 0.76277 hours\n",
      "Validation at Epoch 16 , MSE: 0.06189 , Pearson Correlation: 0.98125 with p-value: 0.0 , Concordance Index: 0.96986\n",
      "Training at Epoch 17 iteration 0 with loss 0.08809. Total time 0.81388 hours\n",
      "Validation at Epoch 17 , MSE: 0.06488 , Pearson Correlation: 0.98099 with p-value: 0.0 , Concordance Index: 0.96899\n",
      "Training at Epoch 18 iteration 0 with loss 0.10010. Total time 0.86416 hours\n",
      "Validation at Epoch 18 , MSE: 0.05684 , Pearson Correlation: 0.98147 with p-value: 0.0 , Concordance Index: 0.96924\n",
      "Training at Epoch 19 iteration 0 with loss 0.06857. Total time 0.915 hours\n",
      "Validation at Epoch 19 , MSE: 0.05823 , Pearson Correlation: 0.98148 with p-value: 0.0 , Concordance Index: 0.96847\n",
      "Training at Epoch 20 iteration 0 with loss 0.07260. Total time 0.96666 hours\n",
      "Validation at Epoch 20 , MSE: 0.05896 , Pearson Correlation: 0.98140 with p-value: 0.0 , Concordance Index: 0.97060\n",
      "Training at Epoch 21 iteration 0 with loss 0.06989. Total time 1.01777 hours\n",
      "Validation at Epoch 21 , MSE: 0.05424 , Pearson Correlation: 0.98200 with p-value: 0.0 , Concordance Index: 0.97148\n",
      "Training at Epoch 22 iteration 0 with loss 0.06738. Total time 1.06833 hours\n",
      "Validation at Epoch 22 , MSE: 0.06561 , Pearson Correlation: 0.98173 with p-value: 0.0 , Concordance Index: 0.96969\n",
      "Training at Epoch 23 iteration 0 with loss 0.08881. Total time 1.11888 hours\n",
      "Validation at Epoch 23 , MSE: 0.05739 , Pearson Correlation: 0.98109 with p-value: 0.0 , Concordance Index: 0.96896\n",
      "Training at Epoch 24 iteration 0 with loss 0.07291. Total time 1.16888 hours\n",
      "Validation at Epoch 24 , MSE: 0.05902 , Pearson Correlation: 0.98135 with p-value: 0.0 , Concordance Index: 0.97125\n",
      "Training at Epoch 25 iteration 0 with loss 0.06829. Total time 1.21916 hours\n",
      "Validation at Epoch 25 , MSE: 0.05470 , Pearson Correlation: 0.98195 with p-value: 0.0 , Concordance Index: 0.96913\n",
      "Training at Epoch 26 iteration 0 with loss 0.06440. Total time 1.26888 hours\n",
      "Validation at Epoch 26 , MSE: 0.05736 , Pearson Correlation: 0.98192 with p-value: 0.0 , Concordance Index: 0.97207\n",
      "Training at Epoch 27 iteration 0 with loss 0.09429. Total time 1.31916 hours\n",
      "Validation at Epoch 27 , MSE: 0.05690 , Pearson Correlation: 0.98136 with p-value: 0.0 , Concordance Index: 0.97040\n",
      "Training at Epoch 28 iteration 0 with loss 0.07142. Total time 1.36972 hours\n",
      "Validation at Epoch 28 , MSE: 0.05511 , Pearson Correlation: 0.98186 with p-value: 0.0 , Concordance Index: 0.97155\n",
      "Training at Epoch 29 iteration 0 with loss 0.06652. Total time 1.42 hours\n",
      "Validation at Epoch 30 , MSE: 0.05676 , Pearson Correlation: 0.98120 with p-value: 0.0 , Concordance Index: 0.97033\n",
      "Training at Epoch 31 iteration 0 with loss 0.06408. Total time 1.52138 hours\n",
      "Validation at Epoch 31 , MSE: 0.05562 , Pearson Correlation: 0.98151 with p-value: 0.0 , Concordance Index: 0.97071\n",
      "Training at Epoch 32 iteration 0 with loss 0.07156. Total time 1.57166 hours\n",
      "Validation at Epoch 32 , MSE: 0.05456 , Pearson Correlation: 0.98239 with p-value: 0.0 , Concordance Index: 0.97137\n",
      "Training at Epoch 33 iteration 0 with loss 0.07234. Total time 1.6225 hours\n",
      "Validation at Epoch 33 , MSE: 0.06107 , Pearson Correlation: 0.98182 with p-value: 0.0 , Concordance Index: 0.97136\n",
      "Training at Epoch 34 iteration 0 with loss 0.06751. Total time 1.67305 hours\n",
      "Validation at Epoch 34 , MSE: 0.05418 , Pearson Correlation: 0.98203 with p-value: 0.0 , Concordance Index: 0.97094\n",
      "Training at Epoch 35 iteration 0 with loss 0.07083. Total time 1.72305 hours\n",
      "Validation at Epoch 35 , MSE: 0.05420 , Pearson Correlation: 0.98212 with p-value: 0.0 , Concordance Index: 0.97086\n",
      "Training at Epoch 36 iteration 0 with loss 0.08017. Total time 1.77222 hours\n",
      "Validation at Epoch 36 , MSE: 0.05513 , Pearson Correlation: 0.98199 with p-value: 0.0 , Concordance Index: 0.97000\n",
      "Training at Epoch 37 iteration 0 with loss 0.06344. Total time 1.82388 hours\n",
      "Validation at Epoch 37 , MSE: 0.05528 , Pearson Correlation: 0.98169 with p-value: 0.0 , Concordance Index: 0.96978\n",
      "Training at Epoch 38 iteration 0 with loss 0.05576. Total time 1.87416 hours\n",
      "Validation at Epoch 38 , MSE: 0.05912 , Pearson Correlation: 0.98155 with p-value: 0.0 , Concordance Index: 0.97013\n",
      "Training at Epoch 39 iteration 0 with loss 0.06269. Total time 1.925 hours\n",
      "Validation at Epoch 39 , MSE: 0.05487 , Pearson Correlation: 0.98175 with p-value: 0.0 , Concordance Index: 0.97040\n",
      "Training at Epoch 40 iteration 0 with loss 0.08107. Total time 1.97527 hours\n",
      "Validation at Epoch 40 , MSE: 0.05902 , Pearson Correlation: 0.98174 with p-value: 0.0 , Concordance Index: 0.97073\n",
      "Training at Epoch 41 iteration 0 with loss 0.06753. Total time 2.02555 hours\n",
      "Validation at Epoch 41 , MSE: 0.05868 , Pearson Correlation: 0.98177 with p-value: 0.0 , Concordance Index: 0.97218\n",
      "Training at Epoch 42 iteration 0 with loss 0.04992. Total time 2.07694 hours\n",
      "Validation at Epoch 42 , MSE: 0.05855 , Pearson Correlation: 0.98132 with p-value: 0.0 , Concordance Index: 0.97115\n",
      "Training at Epoch 43 iteration 0 with loss 0.07065. Total time 2.12638 hours\n",
      "Validation at Epoch 43 , MSE: 0.05839 , Pearson Correlation: 0.98157 with p-value: 0.0 , Concordance Index: 0.96862\n",
      "Training at Epoch 44 iteration 0 with loss 0.05757. Total time 2.17611 hours\n",
      "Validation at Epoch 44 , MSE: 0.05503 , Pearson Correlation: 0.98188 with p-value: 0.0 , Concordance Index: 0.97099\n",
      "Training at Epoch 45 iteration 0 with loss 0.05576. Total time 2.22583 hours\n",
      "Validation at Epoch 45 , MSE: 0.05963 , Pearson Correlation: 0.98155 with p-value: 0.0 , Concordance Index: 0.97005\n",
      "Training at Epoch 46 iteration 0 with loss 0.08483. Total time 2.27527 hours\n",
      "Validation at Epoch 46 , MSE: 0.05541 , Pearson Correlation: 0.98174 with p-value: 0.0 , Concordance Index: 0.97203\n",
      "Training at Epoch 47 iteration 0 with loss 0.06733. Total time 2.32472 hours\n",
      "Validation at Epoch 47 , MSE: 0.05702 , Pearson Correlation: 0.98181 with p-value: 0.0 , Concordance Index: 0.97127\n",
      "Training at Epoch 48 iteration 0 with loss 0.06392. Total time 2.37444 hours\n",
      "Validation at Epoch 48 , MSE: 0.05544 , Pearson Correlation: 0.98179 with p-value: 0.0 , Concordance Index: 0.97078\n",
      "Training at Epoch 49 iteration 0 with loss 0.05713. Total time 2.42416 hours\n",
      "Validation at Epoch 49 , MSE: 0.05650 , Pearson Correlation: 0.98131 with p-value: 0.0 , Concordance Index: 0.97070\n",
      "Training at Epoch 50 iteration 0 with loss 0.05949. Total time 2.47416 hours\n",
      "Validation at Epoch 50 , MSE: 0.06910 , Pearson Correlation: 0.97983 with p-value: 0.0 , Concordance Index: 0.96911\n",
      "--- Go for Testing ---\n",
      "Testing MSE: 0.05418007017856684 , Pearson Correlation: 0.9820333265300389 with p-value: 0.0 , Concordance Index: 0.9709495773762371\n",
      "--- Training Finished ---\n"
     ]
    },
    {
     "data": {
      "image/png": "[encoded data removed]",
      "text/plain": [
       "<Figure size 432x288 with 1 Axes>"
      ]
     },
     "metadata": {
      "needs_background": "light"
     },
     "output_type": "display_data"
    }
   ],
   "source": [
    "model.train(train, val, test)"
   ]
  },
  {
   "cell_type": "code",
   "execution_count": 14,
   "metadata": {},
   "outputs": [],
   "source": [
    "model.save_model('./model_MPNN_CNN_DTC')"
   ]
  },
  {
   "cell_type": "code",
   "execution_count": null,
   "metadata": {},
   "outputs": [],
   "source": []
  }
 ],
 "metadata": {
  "kernelspec": {
   "display_name": "Python 3",
   "language": "python",
   "name": "python3"
  },
  "language_info": {
   "codemirror_mode": {
    "name": "ipython",
    "version": 3
   },
   "file_extension": ".py",
   "mimetype": "text/x-python",
   "name": "python",
   "nbconvert_exporter": "python",
   "pygments_lexer": "ipython3",
   "version": "3.8.5"
  }
 },
 "nbformat": 4,
 "nbformat_minor": 2
}
