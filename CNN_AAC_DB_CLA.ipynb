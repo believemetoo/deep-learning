{
 "cells": [
  {
   "cell_type": "code",
   "execution_count": 1,
   "metadata": {},
   "outputs": [],
   "source": [
    "import warnings\n",
    "warnings.filterwarnings(\"ignore\")"
   ]
  },
  {
   "cell_type": "code",
   "execution_count": 2,
   "metadata": {
    "collapsed": true
   },
   "outputs": [
    {
     "name": "stderr",
     "output_type": "stream",
     "text": [
      "WARNING:root:No normalization for BCUT2D_MWHI\n",
      "WARNING:root:No normalization for BCUT2D_MWLOW\n",
      "WARNING:root:No normalization for BCUT2D_CHGHI\n",
      "WARNING:root:No normalization for BCUT2D_CHGLO\n",
      "WARNING:root:No normalization for BCUT2D_LOGPHI\n",
      "WARNING:root:No normalization for BCUT2D_LOGPLOW\n",
      "WARNING:root:No normalization for BCUT2D_MRHI\n",
      "WARNING:root:No normalization for BCUT2D_MRLOW\n"
     ]
    }
   ],
   "source": [
    "from DeepPurpose import utils, models, dataset\n",
    "from DeepPurpose.utils import *"
   ]
  },
  {
   "cell_type": "code",
   "execution_count": null,
   "metadata": {},
   "outputs": [],
   "source": [
    "import numpy as np\n",
    "import pandas as pd\n",
    "import json\n",
    "import os \n",
    "print(os.path.abspath('.'))"
   ]
  },
  {
   "cell_type": "code",
   "execution_count": 4,
   "metadata": {},
   "outputs": [
    {
     "name": "stdout",
     "output_type": "stream",
     "text": [
      "Done!\n"
     ]
    }
   ],
   "source": [
    "Smile = np.load(\"DB_smiles_binary.npy\", allow_pickle=True)\n",
    "Target = np.load(\"DB_targets_binary.npy\", allow_pickle=True)\n",
    "y = np.load(\"DB_y_binary.npy\", allow_pickle=True)\n",
    "print('Done!')"
   ]
  },
  {
   "cell_type": "code",
   "execution_count": 5,
   "metadata": {},
   "outputs": [
    {
     "name": "stdout",
     "output_type": "stream",
     "text": [
      "Drug 1: Cc1ccc(CNS(=O)(=O)c2ccc(s2)S(N)(=O)=O)cc1\n",
      "Target 1: MSHHWGYGKHNGPEHWHKDFPIAKGERQSPVDIDTHTAKYDPSLKPLSVSYDQATSLRILNNGHAFNVEFDDSQDKAVLKGGPLDGTYRLIQFHFHWGSLDGQGSEHTVDKKKYAAELHLVHWNTKYGDFGKAVQQPDGLAVLGIFLKVGSAKPGLQKVVDVLDSIKTKGKSADFTNFDPRGLLPESLDYWTYPGSLTTPPLLECVTWIVLKEPISVSSEQVLKFRKLNFNGEGEPEELMVDNWRPAQPLKNRQIKASFK\n",
      "Score 1: 1\n"
     ]
    }
   ],
   "source": [
    "X_drugs, X_targets, y = Smile, Target, y\n",
    "print('Drug 1: ' + X_drugs[0])\n",
    "print('Target 1: ' + X_targets[0])\n",
    "print('Score 1: ' + str(y[0]))"
   ]
  },
  {
   "cell_type": "code",
   "execution_count": 6,
   "metadata": {},
   "outputs": [
    {
     "data": {
      "text/plain": [
       "(66444,)"
      ]
     },
     "execution_count": 6,
     "metadata": {},
     "output_type": "execute_result"
    }
   ],
   "source": [
    "y.shape"
   ]
  },
  {
   "cell_type": "code",
   "execution_count": 7,
   "metadata": {},
   "outputs": [],
   "source": [
    "drug_encoding, target_encoding = 'CNN', 'AAC'"
   ]
  },
  {
   "cell_type": "code",
   "execution_count": 8,
   "metadata": {
    "scrolled": true
   },
   "outputs": [
    {
     "name": "stdout",
     "output_type": "stream",
     "text": [
      "Drug Target Interaction Prediction Mode...\n",
      "in total: 66444 drug-target pairs\n",
      "encoding drug...\n",
      "unique drugs: 10665\n",
      "encoding protein...\n",
      "unique target sequence: 1413\n",
      "-- Encoding AAC takes time. Time Reference: 24s for ~100 sequences in a CPU.\t\t\t\t Calculate your time by the unique target sequence #, instead of the entire dataset.\n",
      "splitting dataset...\n",
      "Done.\n"
     ]
    },
    {
     "data": {
      "text/html": [
       "<div>\n",
       "<style scoped>\n",
       "    .dataframe tbody tr th:only-of-type {\n",
       "        vertical-align: middle;\n",
       "    }\n",
       "\n",
       "    .dataframe tbody tr th {\n",
       "        vertical-align: top;\n",
       "    }\n",
       "\n",
       "    .dataframe thead th {\n",
       "        text-align: right;\n",
       "    }\n",
       "</style>\n",
       "<table border=\"1\" class=\"dataframe\">\n",
       "  <thead>\n",
       "    <tr style=\"text-align: right;\">\n",
       "      <th></th>\n",
       "      <th>SMILES</th>\n",
       "      <th>Target Sequence</th>\n",
       "      <th>Label</th>\n",
       "      <th>drug_encoding</th>\n",
       "      <th>target_encoding</th>\n",
       "    </tr>\n",
       "  </thead>\n",
       "  <tbody>\n",
       "    <tr>\n",
       "      <th>0</th>\n",
       "      <td>Cc1ccc(CNS(=O)(=O)c2ccc(s2)S(N)(=O)=O)cc1</td>\n",
       "      <td>MSHHWGYGKHNGPEHWHKDFPIAKGERQSPVDIDTHTAKYDPSLKP...</td>\n",
       "      <td>1</td>\n",
       "      <td>[C, c, 1, c, c, c, (, C, N, S, (, =, O, ), (, ...</td>\n",
       "      <td>[5.0, 2.692, 3.846, 7.308, 0.385, 5.0, 4.231, ...</td>\n",
       "    </tr>\n",
       "  </tbody>\n",
       "</table>\n",
       "</div>"
      ],
      "text/plain": [
       "                                      SMILES  \\\n",
       "0  Cc1ccc(CNS(=O)(=O)c2ccc(s2)S(N)(=O)=O)cc1   \n",
       "\n",
       "                                     Target Sequence  Label  \\\n",
       "0  MSHHWGYGKHNGPEHWHKDFPIAKGERQSPVDIDTHTAKYDPSLKP...      1   \n",
       "\n",
       "                                       drug_encoding  \\\n",
       "0  [C, c, 1, c, c, c, (, C, N, S, (, =, O, ), (, ...   \n",
       "\n",
       "                                     target_encoding  \n",
       "0  [5.0, 2.692, 3.846, 7.308, 0.385, 5.0, 4.231, ...  "
      ]
     },
     "execution_count": 8,
     "metadata": {},
     "output_type": "execute_result"
    }
   ],
   "source": [
    "train, val, test = utils.data_process(X_drugs, X_targets, y, \n",
    "                                drug_encoding, target_encoding, \n",
    "                                split_method='train_full',frac=[0.8,0.1,0.1],\n",
    "                                random_seed = 1)\n",
    "train.head(1)"
   ]
  },
  {
   "cell_type": "code",
   "execution_count": 9,
   "metadata": {},
   "outputs": [
    {
     "data": {
      "text/plain": [
       "{'input_dim_drug': 1024,\n",
       " 'input_dim_protein': 8420,\n",
       " 'hidden_dim_drug': 128,\n",
       " 'hidden_dim_protein': 256,\n",
       " 'cls_hidden_dims': [1024, 1024, 512],\n",
       " 'batch_size': 512,\n",
       " 'train_epoch': 50,\n",
       " 'test_every_X_epoch': 10,\n",
       " 'LR': 0.001,\n",
       " 'drug_encoding': 'CNN',\n",
       " 'target_encoding': 'AAC',\n",
       " 'result_folder': './result/',\n",
       " 'binary': True,\n",
       " 'num_workers': 10,\n",
       " 'cnn_drug_filters': [32, 64, 96],\n",
       " 'cnn_drug_kernels': [4, 6, 8],\n",
       " 'mlp_hidden_dims_target': [1024, 256, 64],\n",
       " 'decay': 0}"
      ]
     },
     "execution_count": 9,
     "metadata": {},
     "output_type": "execute_result"
    }
   ],
   "source": [
    "# use pre-trained model\n",
    "model = models.model_pretrained(path_dir = './')\n",
    "model.config"
   ]
  },
  {
   "cell_type": "code",
   "execution_count": 10,
   "metadata": {},
   "outputs": [
    {
     "data": {
      "text/plain": [
       "'\\nconfig = utils.generate_config(drug_encoding = drug_encoding, \\n                         target_encoding = target_encoding, \\n                         cls_hidden_dims = [1024,1024,512], \\n                         train_epoch = 100, \\n                         test_every_X_epoch = 10, \\n                         LR = 0.001, \\n                         #decay = 0.001,\\n                         batch_size = 512,\\n                         hidden_dim_drug = 128,\\n                         #mpnn_hidden_size = 128,\\n                         #mpnn_depth = 3, \\n                         cnn_drug_filters = [32,64,96],\\n                         cnn_drug_kernels = [4,6,8], \\n                         #cnn_target_filters = [32,64,96],\\n                         #cnn_target_kernels = [4,8,12],\\n                         #transformer_n_layer_target = 2,\\n                         num_workers = 10\\n                              )\\n'"
      ]
     },
     "execution_count": 10,
     "metadata": {},
     "output_type": "execute_result"
    }
   ],
   "source": [
    "'''\n",
    "config = utils.generate_config(drug_encoding = drug_encoding, \n",
    "                         target_encoding = target_encoding, \n",
    "                         cls_hidden_dims = [1024,1024,512], \n",
    "                         train_epoch = 100, \n",
    "                         test_every_X_epoch = 10, \n",
    "                         LR = 0.001, \n",
    "                         #decay = 0.001,\n",
    "                         batch_size = 512,\n",
    "                         hidden_dim_drug = 128,\n",
    "                         #mpnn_hidden_size = 128,\n",
    "                         #mpnn_depth = 3, \n",
    "                         cnn_drug_filters = [32,64,96],\n",
    "                         cnn_drug_kernels = [4,6,8], \n",
    "                         #cnn_target_filters = [32,64,96],\n",
    "                         #cnn_target_kernels = [4,8,12],\n",
    "                         #transformer_n_layer_target = 2,\n",
    "                         num_workers = 10\n",
    "                              )\n",
    "'''"
   ]
  },
  {
   "cell_type": "code",
   "execution_count": 11,
   "metadata": {},
   "outputs": [],
   "source": [
    "#model = models.model_initialize(**config)"
   ]
  },
  {
   "cell_type": "code",
   "execution_count": 12,
   "metadata": {},
   "outputs": [],
   "source": [
    "#model.config['train_epoch'] = 50\n",
    "#model.config['batch_size'] = 1024"
   ]
  },
  {
   "cell_type": "code",
   "execution_count": 10,
   "metadata": {},
   "outputs": [
    {
     "name": "stdout",
     "output_type": "stream",
     "text": [
      "Let's use 1 GPU!\n",
      "--- Data Preparation ---\n",
      "--- Go for Training ---\n",
      "Training at Epoch 1 iteration 0 with loss 0.05474. Total time 0.00027 hours\n",
      "Training at Epoch 1 iteration 100 with loss 0.06138. Total time 0.0025 hours\n",
      "Validation at Epoch 1 , AUROC: 0.99260 , AUPRC: 0.94834 , F1: 0.83919\n",
      "Training at Epoch 2 iteration 0 with loss 0.05149. Total time 0.00388 hours\n",
      "Training at Epoch 2 iteration 100 with loss 0.05794. Total time 0.00611 hours\n",
      "Validation at Epoch 2 , AUROC: 0.99351 , AUPRC: 0.95111 , F1: 0.84289\n",
      "Training at Epoch 3 iteration 0 with loss 0.08662. Total time 0.00777 hours\n",
      "Training at Epoch 3 iteration 100 with loss 0.06303. Total time 0.01 hours\n",
      "Validation at Epoch 3 , AUROC: 0.99264 , AUPRC: 0.94636 , F1: 0.83924\n",
      "Training at Epoch 4 iteration 0 with loss 0.06162. Total time 0.01138 hours\n",
      "Training at Epoch 4 iteration 100 with loss 0.06292. Total time 0.01388 hours\n",
      "Validation at Epoch 4 , AUROC: 0.99315 , AUPRC: 0.94975 , F1: 0.84539\n",
      "Training at Epoch 5 iteration 0 with loss 0.03407. Total time 0.01527 hours\n",
      "Training at Epoch 5 iteration 100 with loss 0.05081. Total time 0.0175 hours\n",
      "Validation at Epoch 5 , AUROC: 0.99347 , AUPRC: 0.95214 , F1: 0.84596\n",
      "Training at Epoch 6 iteration 0 with loss 0.04613. Total time 0.01888 hours\n",
      "Training at Epoch 6 iteration 100 with loss 0.06237. Total time 0.02138 hours\n",
      "Validation at Epoch 6 , AUROC: 0.99366 , AUPRC: 0.95290 , F1: 0.84723\n",
      "Training at Epoch 7 iteration 0 with loss 0.05326. Total time 0.02277 hours\n",
      "Training at Epoch 7 iteration 100 with loss 0.05873. Total time 0.025 hours\n",
      "Validation at Epoch 7 , AUROC: 0.99398 , AUPRC: 0.95522 , F1: 0.84481\n",
      "Training at Epoch 8 iteration 0 with loss 0.06035. Total time 0.02638 hours\n",
      "Training at Epoch 8 iteration 100 with loss 0.07182. Total time 0.02888 hours\n",
      "Validation at Epoch 8 , AUROC: 0.99366 , AUPRC: 0.95286 , F1: 0.84385\n",
      "Training at Epoch 9 iteration 0 with loss 0.07478. Total time 0.03027 hours\n",
      "Training at Epoch 9 iteration 100 with loss 0.05297. Total time 0.0325 hours\n",
      "Validation at Epoch 9 , AUROC: 0.99395 , AUPRC: 0.95522 , F1: 0.84868\n",
      "Training at Epoch 10 iteration 0 with loss 0.05942. Total time 0.03416 hours\n",
      "Training at Epoch 10 iteration 100 with loss 0.08364. Total time 0.03638 hours\n",
      "Validation at Epoch 10 , AUROC: 0.99395 , AUPRC: 0.95523 , F1: 0.84913\n",
      "Training at Epoch 11 iteration 0 with loss 0.05301. Total time 0.03777 hours\n",
      "Training at Epoch 11 iteration 100 with loss 0.05098. Total time 0.04027 hours\n",
      "Validation at Epoch 11 , AUROC: 0.99315 , AUPRC: 0.95058 , F1: 0.84087\n",
      "Training at Epoch 12 iteration 0 with loss 0.05783. Total time 0.04166 hours\n",
      "Training at Epoch 12 iteration 100 with loss 0.04090. Total time 0.04388 hours\n",
      "Validation at Epoch 12 , AUROC: 0.99368 , AUPRC: 0.95238 , F1: 0.84105\n",
      "Training at Epoch 13 iteration 0 with loss 0.06181. Total time 0.04555 hours\n",
      "Training at Epoch 13 iteration 100 with loss 0.06798. Total time 0.04777 hours\n",
      "Validation at Epoch 13 , AUROC: 0.99360 , AUPRC: 0.95360 , F1: 0.84481\n",
      "Training at Epoch 14 iteration 0 with loss 0.07205. Total time 0.04916 hours\n",
      "Training at Epoch 14 iteration 100 with loss 0.06021. Total time 0.05166 hours\n",
      "Validation at Epoch 14 , AUROC: 0.99362 , AUPRC: 0.95292 , F1: 0.84558\n",
      "Training at Epoch 15 iteration 0 with loss 0.07411. Total time 0.05305 hours\n",
      "Training at Epoch 15 iteration 100 with loss 0.06602. Total time 0.05555 hours\n",
      "Validation at Epoch 15 , AUROC: 0.99351 , AUPRC: 0.94861 , F1: 0.84279\n",
      "Training at Epoch 16 iteration 0 with loss 0.09012. Total time 0.05694 hours\n",
      "Training at Epoch 16 iteration 100 with loss 0.05353. Total time 0.05944 hours\n",
      "Validation at Epoch 16 , AUROC: 0.99350 , AUPRC: 0.95093 , F1: 0.84779\n",
      "Training at Epoch 17 iteration 0 with loss 0.05760. Total time 0.06083 hours\n",
      "Training at Epoch 17 iteration 100 with loss 0.08212. Total time 0.06305 hours\n",
      "Validation at Epoch 17 , AUROC: 0.99331 , AUPRC: 0.94859 , F1: 0.84349\n",
      "Training at Epoch 18 iteration 0 with loss 0.07297. Total time 0.06472 hours\n",
      "Training at Epoch 18 iteration 100 with loss 0.04921. Total time 0.06694 hours\n",
      "Validation at Epoch 18 , AUROC: 0.99369 , AUPRC: 0.95083 , F1: 0.83724\n",
      "Training at Epoch 19 iteration 0 with loss 0.04257. Total time 0.06833 hours\n",
      "Training at Epoch 19 iteration 100 with loss 0.08075. Total time 0.07083 hours\n",
      "Validation at Epoch 19 , AUROC: 0.99391 , AUPRC: 0.95435 , F1: 0.84393\n",
      "Training at Epoch 20 iteration 0 with loss 0.04475. Total time 0.07222 hours\n",
      "Training at Epoch 20 iteration 100 with loss 0.08594. Total time 0.07444 hours\n",
      "Validation at Epoch 20 , AUROC: 0.99396 , AUPRC: 0.95528 , F1: 0.85298\n",
      "Training at Epoch 21 iteration 0 with loss 0.04641. Total time 0.07583 hours\n",
      "Training at Epoch 21 iteration 100 with loss 0.07392. Total time 0.07833 hours\n",
      "Validation at Epoch 21 , AUROC: 0.99394 , AUPRC: 0.95474 , F1: 0.83892\n",
      "Training at Epoch 22 iteration 0 with loss 0.07529. Total time 0.07972 hours\n",
      "Training at Epoch 22 iteration 100 with loss 0.06755. Total time 0.08222 hours\n",
      "Validation at Epoch 22 , AUROC: 0.99320 , AUPRC: 0.95149 , F1: 0.84991\n",
      "Training at Epoch 23 iteration 0 with loss 0.05803. Total time 0.08361 hours\n",
      "Training at Epoch 23 iteration 100 with loss 0.05051. Total time 0.08611 hours\n",
      "Validation at Epoch 23 , AUROC: 0.99335 , AUPRC: 0.95014 , F1: 0.84848\n",
      "Training at Epoch 24 iteration 0 with loss 0.05642. Total time 0.0875 hours\n",
      "Training at Epoch 24 iteration 100 with loss 0.05851. Total time 0.08972 hours\n",
      "Validation at Epoch 24 , AUROC: 0.99395 , AUPRC: 0.95551 , F1: 0.85049\n",
      "Training at Epoch 25 iteration 0 with loss 0.05252. Total time 0.09138 hours\n",
      "Training at Epoch 25 iteration 100 with loss 0.08071. Total time 0.09361 hours\n",
      "Validation at Epoch 25 , AUROC: 0.99376 , AUPRC: 0.95487 , F1: 0.85120\n",
      "Training at Epoch 26 iteration 0 with loss 0.06223. Total time 0.095 hours\n",
      "Training at Epoch 26 iteration 100 with loss 0.06399. Total time 0.0975 hours\n",
      "Validation at Epoch 26 , AUROC: 0.99350 , AUPRC: 0.95130 , F1: 0.84115\n",
      "Training at Epoch 27 iteration 0 with loss 0.07018. Total time 0.09888 hours\n",
      "Training at Epoch 27 iteration 100 with loss 0.03535. Total time 0.10138 hours\n",
      "Validation at Epoch 27 , AUROC: 0.99366 , AUPRC: 0.95362 , F1: 0.83865\n",
      "Training at Epoch 28 iteration 0 with loss 0.05694. Total time 0.10277 hours\n",
      "Training at Epoch 28 iteration 100 with loss 0.06114. Total time 0.105 hours\n",
      "Validation at Epoch 28 , AUROC: 0.99369 , AUPRC: 0.95330 , F1: 0.84615\n",
      "Training at Epoch 29 iteration 0 with loss 0.06200. Total time 0.10638 hours\n",
      "Training at Epoch 29 iteration 100 with loss 0.04633. Total time 0.10888 hours\n",
      "Validation at Epoch 29 , AUROC: 0.99378 , AUPRC: 0.95380 , F1: 0.85089\n",
      "Training at Epoch 30 iteration 0 with loss 0.06662. Total time 0.11027 hours\n",
      "Training at Epoch 30 iteration 100 with loss 0.06780. Total time 0.11277 hours\n",
      "Validation at Epoch 30 , AUROC: 0.99357 , AUPRC: 0.95330 , F1: 0.84773\n",
      "Training at Epoch 31 iteration 0 with loss 0.05337. Total time 0.11416 hours\n",
      "Training at Epoch 31 iteration 100 with loss 0.06271. Total time 0.11638 hours\n",
      "Validation at Epoch 31 , AUROC: 0.99355 , AUPRC: 0.95293 , F1: 0.84280\n",
      "Training at Epoch 32 iteration 0 with loss 0.05934. Total time 0.11777 hours\n",
      "Training at Epoch 32 iteration 100 with loss 0.04992. Total time 0.12027 hours\n",
      "Validation at Epoch 32 , AUROC: 0.99402 , AUPRC: 0.95563 , F1: 0.84403\n",
      "Training at Epoch 33 iteration 0 with loss 0.06513. Total time 0.12166 hours\n",
      "Training at Epoch 33 iteration 100 with loss 0.05802. Total time 0.12388 hours\n",
      "Validation at Epoch 33 , AUROC: 0.99386 , AUPRC: 0.95434 , F1: 0.85078\n",
      "Training at Epoch 34 iteration 0 with loss 0.05395. Total time 0.12527 hours\n",
      "Training at Epoch 34 iteration 100 with loss 0.05083. Total time 0.12777 hours\n",
      "Validation at Epoch 34 , AUROC: 0.99387 , AUPRC: 0.94921 , F1: 0.85008\n",
      "Training at Epoch 35 iteration 0 with loss 0.06114. Total time 0.12916 hours\n",
      "Training at Epoch 35 iteration 100 with loss 0.05315. Total time 0.13138 hours\n",
      "Validation at Epoch 35 , AUROC: 0.99365 , AUPRC: 0.95330 , F1: 0.84754\n",
      "Training at Epoch 36 iteration 0 with loss 0.03808. Total time 0.13277 hours\n",
      "Training at Epoch 36 iteration 100 with loss 0.05388. Total time 0.135 hours\n",
      "Validation at Epoch 36 , AUROC: 0.99385 , AUPRC: 0.95423 , F1: 0.84942\n"
     ]
    },
    {
     "name": "stdout",
     "output_type": "stream",
     "text": [
      "Training at Epoch 37 iteration 0 with loss 0.06132. Total time 0.13638 hours\n",
      "Training at Epoch 37 iteration 100 with loss 0.05638. Total time 0.13861 hours\n",
      "Validation at Epoch 37 , AUROC: 0.99431 , AUPRC: 0.95779 , F1: 0.85808\n",
      "Training at Epoch 38 iteration 0 with loss 0.06871. Total time 0.14 hours\n",
      "Training at Epoch 38 iteration 100 with loss 0.11010. Total time 0.14222 hours\n",
      "Validation at Epoch 38 , AUROC: 0.99264 , AUPRC: 0.94849 , F1: 0.83009\n",
      "Training at Epoch 39 iteration 0 with loss 0.06354. Total time 0.14388 hours\n",
      "Training at Epoch 39 iteration 100 with loss 0.06130. Total time 0.14583 hours\n",
      "Validation at Epoch 39 , AUROC: 0.99376 , AUPRC: 0.95427 , F1: 0.84462\n",
      "Training at Epoch 40 iteration 0 with loss 0.04717. Total time 0.1475 hours\n",
      "Training at Epoch 40 iteration 100 with loss 0.07078. Total time 0.14972 hours\n",
      "Validation at Epoch 40 , AUROC: 0.99390 , AUPRC: 0.95487 , F1: 0.84551\n",
      "Training at Epoch 41 iteration 0 with loss 0.07023. Total time 0.15111 hours\n",
      "Training at Epoch 41 iteration 100 with loss 0.05384. Total time 0.15333 hours\n",
      "Validation at Epoch 41 , AUROC: 0.99361 , AUPRC: 0.95263 , F1: 0.85081\n",
      "Training at Epoch 42 iteration 0 with loss 0.05396. Total time 0.15472 hours\n",
      "Training at Epoch 42 iteration 100 with loss 0.05511. Total time 0.15694 hours\n",
      "Validation at Epoch 42 , AUROC: 0.99336 , AUPRC: 0.95058 , F1: 0.84070\n",
      "Training at Epoch 43 iteration 0 with loss 0.06827. Total time 0.15861 hours\n",
      "Training at Epoch 43 iteration 100 with loss 0.06177. Total time 0.16083 hours\n",
      "Validation at Epoch 43 , AUROC: 0.99367 , AUPRC: 0.95401 , F1: 0.84742\n",
      "Training at Epoch 44 iteration 0 with loss 0.08009. Total time 0.16222 hours\n",
      "Training at Epoch 44 iteration 100 with loss 0.06376. Total time 0.16444 hours\n",
      "Validation at Epoch 44 , AUROC: 0.99370 , AUPRC: 0.95318 , F1: 0.84175\n",
      "Training at Epoch 45 iteration 0 with loss 0.05950. Total time 0.16611 hours\n",
      "Training at Epoch 45 iteration 100 with loss 0.08255. Total time 0.16833 hours\n",
      "Validation at Epoch 45 , AUROC: 0.99408 , AUPRC: 0.95575 , F1: 0.85074\n",
      "Training at Epoch 46 iteration 0 with loss 0.06097. Total time 0.16972 hours\n",
      "Training at Epoch 46 iteration 100 with loss 0.05843. Total time 0.17194 hours\n",
      "Validation at Epoch 46 , AUROC: 0.99409 , AUPRC: 0.95597 , F1: 0.85074\n",
      "Training at Epoch 47 iteration 0 with loss 0.05613. Total time 0.17333 hours\n",
      "Training at Epoch 47 iteration 100 with loss 0.09151. Total time 0.17555 hours\n",
      "Validation at Epoch 47 , AUROC: 0.99404 , AUPRC: 0.95564 , F1: 0.85383\n",
      "Training at Epoch 48 iteration 0 with loss 0.08201. Total time 0.17722 hours\n",
      "Training at Epoch 48 iteration 100 with loss 0.07155. Total time 0.17916 hours\n",
      "Validation at Epoch 48 , AUROC: 0.99336 , AUPRC: 0.95215 , F1: 0.83989\n",
      "Training at Epoch 49 iteration 0 with loss 0.04931. Total time 0.18083 hours\n",
      "Training at Epoch 49 iteration 100 with loss 0.05881. Total time 0.18305 hours\n",
      "Validation at Epoch 49 , AUROC: 0.99364 , AUPRC: 0.95265 , F1: 0.84411\n",
      "Training at Epoch 50 iteration 0 with loss 0.04540. Total time 0.18444 hours\n",
      "Training at Epoch 50 iteration 100 with loss 0.26291. Total time 0.18694 hours\n",
      "Validation at Epoch 50 , AUROC: 0.99273 , AUPRC: 0.93662 , F1: 0.84684\n",
      "--- Go for Testing ---\n",
      "Testing AUROC: 0.9943174494741184 , AUPRC: 0.9577964359776769 , F1: 0.8580858085808581\n",
      "--- Training Finished ---\n"
     ]
    },
    {
     "data": {
      "image/png": "[encoded data removed]",
      "text/plain": [
       "<Figure size 432x288 with 1 Axes>"
      ]
     },
     "metadata": {
      "needs_background": "light"
     },
     "output_type": "display_data"
    },
    {
     "data": {
      "image/png": "[encoded data removed]",
      "text/plain": [
       "<Figure size 432x288 with 1 Axes>"
      ]
     },
     "metadata": {
      "needs_background": "light"
     },
     "output_type": "display_data"
    },
    {
     "data": {
      "image/png": "[encoded data removed]",
      "text/plain": [
       "<Figure size 432x288 with 1 Axes>"
      ]
     },
     "metadata": {
      "needs_background": "light"
     },
     "output_type": "display_data"
    }
   ],
   "source": [
    "model.train(train, val, test)"
   ]
  },
  {
   "cell_type": "code",
   "execution_count": 11,
   "metadata": {},
   "outputs": [],
   "source": [
    "model.save_model('./model_CNN_AAC_DB_CAL')"
   ]
  },
  {
   "cell_type": "code",
   "execution_count": null,
   "metadata": {},
   "outputs": [],
   "source": []
  }
 ],
 "metadata": {
  "kernelspec": {
   "display_name": "Python 3",
   "language": "python",
   "name": "python3"
  },
  "language_info": {
   "codemirror_mode": {
    "name": "ipython",
    "version": 3
   },
   "file_extension": ".py",
   "mimetype": "text/x-python",
   "name": "python",
   "nbconvert_exporter": "python",
   "pygments_lexer": "ipython3",
   "version": "3.8.5"
  }
 },
 "nbformat": 4,
 "nbformat_minor": 2
}
