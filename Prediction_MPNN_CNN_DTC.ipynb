{
 "cells": [
  {
   "cell_type": "code",
   "execution_count": 1,
   "metadata": {},
   "outputs": [
    {
     "name": "stdout",
     "output_type": "stream",
     "text": [
      "/home/gdp/DeepPurpose\n"
     ]
    }
   ],
   "source": [
    "import numpy as np\n",
    "import pandas as pd\n",
    "import warnings\n",
    "warnings.filterwarnings(\"ignore\")\n",
    "import os\n",
    "print(os.path.abspath('.'))"
   ]
  },
  {
   "cell_type": "code",
   "execution_count": 4,
   "metadata": {},
   "outputs": [],
   "source": [
    "import seaborn as sns\n",
    "import matplotlib.pyplot as plt\n",
    "\n",
    "from lifelines.utils import concordance_index\n",
    "from sklearn.metrics import mean_squared_error"
   ]
  },
  {
   "cell_type": "code",
   "execution_count": 5,
   "metadata": {},
   "outputs": [],
   "source": [
    "from DeepPurpose import oneliner\n",
    "from DeepPurpose.dataset import *\n",
    "from DeepPurpose import utils, models, dataset"
   ]
  },
  {
   "cell_type": "code",
   "execution_count": 6,
   "metadata": {},
   "outputs": [
    {
     "data": {
      "text/plain": [
       "<DeepPurpose.models.DBTA at 0x7f02210603d0>"
      ]
     },
     "execution_count": 6,
     "metadata": {},
     "output_type": "execute_result"
    }
   ],
   "source": [
    "model2 = models.model_pretrained(path_dir = './model_MPNN_CNN_DTC/')\n",
    "model2"
   ]
  },
  {
   "cell_type": "code",
   "execution_count": 7,
   "metadata": {},
   "outputs": [
    {
     "data": {
      "text/plain": [
       "{'input_dim_drug': 1024,\n",
       " 'input_dim_protein': 8420,\n",
       " 'hidden_dim_drug': 128,\n",
       " 'hidden_dim_protein': 256,\n",
       " 'cls_hidden_dims': [1024, 1024, 512],\n",
       " 'batch_size': 1024,\n",
       " 'train_epoch': 50,\n",
       " 'test_every_X_epoch': 10,\n",
       " 'LR': 0.001,\n",
       " 'drug_encoding': 'MPNN',\n",
       " 'target_encoding': 'CNN',\n",
       " 'result_folder': './result/',\n",
       " 'binary': False,\n",
       " 'num_workers': 10,\n",
       " 'mpnn_hidden_size': 128,\n",
       " 'mpnn_depth': 3,\n",
       " 'cnn_target_filters': [32, 64, 96],\n",
       " 'cnn_target_kernels': [4, 8, 12],\n",
       " 'decay': 0}"
      ]
     },
     "execution_count": 7,
     "metadata": {},
     "output_type": "execute_result"
    }
   ],
   "source": [
    "model2.config"
   ]
  },
  {
   "cell_type": "code",
   "execution_count": 8,
   "metadata": {},
   "outputs": [
    {
     "name": "stdout",
     "output_type": "stream",
     "text": [
      "Done!\n"
     ]
    }
   ],
   "source": [
    "Smile = np.load(\"DTC_smiles_reg.npy\", allow_pickle=True)\n",
    "Target = np.load(\"DTC_targets_reg.npy\", allow_pickle=True)\n",
    "y = np.load(\"DTC_y_reg.npy\", allow_pickle=True)\n",
    "print('Done!')"
   ]
  },
  {
   "cell_type": "code",
   "execution_count": 9,
   "metadata": {},
   "outputs": [
    {
     "data": {
      "text/html": [
       "<div>\n",
       "<style scoped>\n",
       "    .dataframe tbody tr th:only-of-type {\n",
       "        vertical-align: middle;\n",
       "    }\n",
       "\n",
       "    .dataframe tbody tr th {\n",
       "        vertical-align: top;\n",
       "    }\n",
       "\n",
       "    .dataframe thead th {\n",
       "        text-align: right;\n",
       "    }\n",
       "</style>\n",
       "<table border=\"1\" class=\"dataframe\">\n",
       "  <thead>\n",
       "    <tr style=\"text-align: right;\">\n",
       "      <th></th>\n",
       "      <th>drug</th>\n",
       "    </tr>\n",
       "  </thead>\n",
       "  <tbody>\n",
       "    <tr>\n",
       "      <th>0</th>\n",
       "      <td>CCCN1C(C)=CC=C2C(=O)NC(N)N=C21</td>\n",
       "    </tr>\n",
       "  </tbody>\n",
       "</table>\n",
       "</div>"
      ],
      "text/plain": [
       "                             drug\n",
       "0  CCCN1C(C)=CC=C2C(=O)NC(N)N=C21"
      ]
     },
     "execution_count": 9,
     "metadata": {},
     "output_type": "execute_result"
    }
   ],
   "source": [
    "drug = pd.DataFrame(Smile,columns=['drug'])\n",
    "drug.head(1)"
   ]
  },
  {
   "cell_type": "code",
   "execution_count": 10,
   "metadata": {},
   "outputs": [],
   "source": [
    "drug2 = drug['drug'].unique()"
   ]
  },
  {
   "cell_type": "code",
   "execution_count": 11,
   "metadata": {},
   "outputs": [
    {
     "data": {
      "text/html": [
       "<div>\n",
       "<style scoped>\n",
       "    .dataframe tbody tr th:only-of-type {\n",
       "        vertical-align: middle;\n",
       "    }\n",
       "\n",
       "    .dataframe tbody tr th {\n",
       "        vertical-align: top;\n",
       "    }\n",
       "\n",
       "    .dataframe thead th {\n",
       "        text-align: right;\n",
       "    }\n",
       "</style>\n",
       "<table border=\"1\" class=\"dataframe\">\n",
       "  <thead>\n",
       "    <tr style=\"text-align: right;\">\n",
       "      <th></th>\n",
       "      <th>drug</th>\n",
       "    </tr>\n",
       "  </thead>\n",
       "  <tbody>\n",
       "    <tr>\n",
       "      <th>0</th>\n",
       "      <td>CCCN1C(C)=CC=C2C(=O)NC(N)N=C21</td>\n",
       "    </tr>\n",
       "  </tbody>\n",
       "</table>\n",
       "</div>"
      ],
      "text/plain": [
       "                             drug\n",
       "0  CCCN1C(C)=CC=C2C(=O)NC(N)N=C21"
      ]
     },
     "execution_count": 11,
     "metadata": {},
     "output_type": "execute_result"
    }
   ],
   "source": [
    "drug2 = pd.DataFrame(drug2,columns=['drug'])\n",
    "drug2.head(1)"
   ]
  },
  {
   "cell_type": "code",
   "execution_count": null,
   "metadata": {},
   "outputs": [],
   "source": [
    "#-----performance of the model on all data(test subset)"
   ]
  },
  {
   "cell_type": "code",
   "execution_count": 12,
   "metadata": {},
   "outputs": [
    {
     "name": "stdout",
     "output_type": "stream",
     "text": [
      "in total: 61479 drug-target pairs\n",
      "encoding drug...\n",
      "unique drugs: 7626\n",
      "drug encoding finished...\n",
      "encoding protein...\n",
      "unique target sequence: 895\n",
      "protein encoding finished...\n",
      "splitting dataset...\n",
      "do not do train/test split on the data for already splitted data\n"
     ]
    }
   ],
   "source": [
    "X_drug = Smile.tolist()\n",
    "X_target = Target.tolist() \n",
    "y = y.tolist()\n",
    "\n",
    "drug_encoding, target_encoding = 'MPNN', 'CNN'\n",
    "X = utils.data_process(X_drug, X_target, y, \n",
    "                                drug_encoding, target_encoding, \n",
    "                                split_method='no_split')\n"
   ]
  },
  {
   "cell_type": "code",
   "execution_count": 13,
   "metadata": {},
   "outputs": [
    {
     "name": "stdout",
     "output_type": "stream",
     "text": [
      "predicting...\n"
     ]
    }
   ],
   "source": [
    "y_pred = model2.predict(X) \n",
    "y_label = y\n",
    "#print(sum_uncer)"
   ]
  },
  {
   "cell_type": "code",
   "execution_count": 14,
   "metadata": {},
   "outputs": [],
   "source": [
    "y_pred_ = pd.DataFrame(y_pred, columns=['y_pred'])\n",
    "y_pred_.to_csv('y_pred_MPNN_CNN_DTC.csv')"
   ]
  },
  {
   "cell_type": "code",
   "execution_count": 15,
   "metadata": {},
   "outputs": [
    {
     "name": "stdout",
     "output_type": "stream",
     "text": [
      "0.05389203374261703\n",
      "0.9698339862340095\n"
     ]
    }
   ],
   "source": [
    "MSE = mean_squared_error(y_label, y_pred)\n",
    "CI = concordance_index(y_label, y_pred)\n",
    "\n",
    "print(MSE)\n",
    "print(CI)"
   ]
  },
  {
   "cell_type": "code",
   "execution_count": 16,
   "metadata": {},
   "outputs": [
    {
     "data": {
      "image/png": "[encoded data removed]",
      "text/plain": [
       "<Figure size 1296x432 with 2 Axes>"
      ]
     },
     "metadata": {
      "needs_background": "light"
     },
     "output_type": "display_data"
    }
   ],
   "source": [
    "fig, ax = plt.subplots(figsize = (18, 6))\n",
    "plt.subplot(1, 2, 1);\n",
    "plt.hist(y_pred, bins=20);\n",
    "plt.title('y_pred');\n",
    "plt.subplot(1, 2, 2);\n",
    "sns.violinplot(data=y_pred);\n",
    "plt.title('Violinplot of y_pred');"
   ]
  },
  {
   "cell_type": "code",
   "execution_count": 17,
   "metadata": {},
   "outputs": [],
   "source": [
    "#-----screen potential drugs for Tie2"
   ]
  },
  {
   "cell_type": "code",
   "execution_count": 18,
   "metadata": {},
   "outputs": [
    {
     "name": "stdout",
     "output_type": "stream",
     "text": [
      "in total: 7626 drug-target pairs\n",
      "encoding drug...\n",
      "unique drugs: 7626\n",
      "drug encoding finished...\n",
      "encoding protein...\n",
      "unique target sequence: 1\n",
      "protein encoding finished...\n",
      "splitting dataset...\n",
      "do not do train/test split on the data for already splitted data\n"
     ]
    }
   ],
   "source": [
    "X_drug = drug2['drug'].values.tolist()\n",
    "X_target = ['MDSLASLVLCGVSLLLSGTVEGAMDLILINSLPLVSDAETSLTCIASGWRPHEPITIGRDFEALMNQHQDPLEVTQDVTREWAKKVVWKREKASKINGAYFCEGRVRGEAIRIRTMKMRQQASFLPATLTMTVDKGDNVNISFKKVLIKEEDAVIYKNGSFIHSVPRHEVPDILEVHLPHAQPQDAGVYSARYIGGNLFTSAFTRLIVRRCEAQKWGPECNHLCTACMNNGVCHEDTGECICPPGFMGRTCEKACELHTFGRTCKERCSGQEGCKSYVFCLPDPYGCSCATGWKGLQCNEACHPGFYGPDCKLRCSCNNGEMCDRFQGCLCSPGWQGLQCEREGIQRMTPKIVDLPDHIEVNSGKFNPICKASGWPLPTNEEMTLVKPDGTVLHPKDFNHTDHFSVAIFTIHRILPPDSGVWVCSVNTVAGMVEKPFNISVKVLPKPLNAPNVIDTGHNFAVINISSEPYFGDGPIKSKKLLYKPVNHYEAWQHIQVTNEIVTLNYLEPRTEYELCVQLVRRGEGGEGHPGPVRRFTTASIGLPPPRGLNLLPKSQTTLNLTWQPIFPSSEDDFYVEVERRSVQKSDQQNIKVPGNLTSVLLNNLHPREQYVVRARVNTKAQGEWSEDLTAWTLSDILPPQPENIKISNITHSSAVISWTILDGYSISSITIRYKVQGKNEDQHVDVKIKNATITQYQLKGLEPETAYQVDIFAENNIGSSNPAFSHELVTLPESQAPADLGGGKMLLIAILGSAGMTCLTVLLAFLIILQLKRANVQRRMAQAFQNVREEPAVQFNSGTLALNRKVKNNPDPTIYPVLDWNDIKFQDVIGEGNFGQVLKARIKKDGLRMDAAIKRMKEYASKDDHRDFAGELEVLCKLGHHPNIINLLGACEHRGYLYLAIEYAPHGNLLDFLRKSRVLETDPAFAIANSTASTLSSQQLLHFAADVARGMDYLSQKQFIHRDLAARNILVGENYVAKIADFGLSRGQEVYVKKTMGRLPVRWMAIESLNYSVYTTNSDVWSYGVLLWEIVSLGGTPYCGMTCAELYEKLPQGYRLEKPLNCDDEVYDLMRQCWREKPYERPSFAQILVSLNRMLEERKTYVNTTLYEKFTYAGIDCSAEEAA']\n",
    "y = np.ones(len(drug2)).tolist()\n",
    "\n",
    "drug_encoding, target_encoding = 'MPNN', 'CNN'\n",
    "X = utils.data_process(X_drug, X_target, y, \n",
    "                                drug_encoding, target_encoding, \n",
    "                                split_method='no_split')\n"
   ]
  },
  {
   "cell_type": "code",
   "execution_count": 19,
   "metadata": {},
   "outputs": [
    {
     "name": "stdout",
     "output_type": "stream",
     "text": [
      "predicting...\n"
     ]
    }
   ],
   "source": [
    "y_pred = model2.predict(X) \n",
    "#y_pred, sum_uncer = model2.predict(X) \n",
    "y_label = y\n",
    "#print(sum_uncer)"
   ]
  },
  {
   "cell_type": "code",
   "execution_count": 20,
   "metadata": {},
   "outputs": [],
   "source": [
    "def convert_y_unit(y, from_, to_):\n",
    "\t# basis as nM\n",
    "\n",
    "\tif from_ == 'nM':\n",
    "\t\ty = y\n",
    "\telif from_ == 'p':\n",
    "\t\ty = 10**(-y) / 1e-9\n",
    "\n",
    "\tif to_ == 'p':\n",
    "\t\ty = -np.log10(y*1e-9 + 1e-10)\n",
    "\telif to_ == 'nM':\n",
    "\t\ty = y\n",
    "\n",
    "\treturn y"
   ]
  },
  {
   "cell_type": "code",
   "execution_count": 21,
   "metadata": {},
   "outputs": [],
   "source": [
    "y_pred = convert_y_unit(np.array(y_pred), 'p', 'nM')"
   ]
  },
  {
   "cell_type": "code",
   "execution_count": 22,
   "metadata": {},
   "outputs": [
    {
     "data": {
      "image/png": "[encoded data removed]",
      "text/plain": [
       "<Figure size 1296x432 with 2 Axes>"
      ]
     },
     "metadata": {
      "needs_background": "light"
     },
     "output_type": "display_data"
    }
   ],
   "source": [
    "fig, ax = plt.subplots(figsize = (18, 6))\n",
    "plt.subplot(1, 2, 1);\n",
    "plt.hist(y_pred, bins=20);\n",
    "plt.title('y_pred');\n",
    "plt.subplot(1, 2, 2);\n",
    "sns.violinplot(data=y_pred);\n",
    "plt.title('Violinplot of y_pred');"
   ]
  },
  {
   "cell_type": "code",
   "execution_count": 23,
   "metadata": {},
   "outputs": [
    {
     "data": {
      "text/html": [
       "<div>\n",
       "<style scoped>\n",
       "    .dataframe tbody tr th:only-of-type {\n",
       "        vertical-align: middle;\n",
       "    }\n",
       "\n",
       "    .dataframe tbody tr th {\n",
       "        vertical-align: top;\n",
       "    }\n",
       "\n",
       "    .dataframe thead th {\n",
       "        text-align: right;\n",
       "    }\n",
       "</style>\n",
       "<table border=\"1\" class=\"dataframe\">\n",
       "  <thead>\n",
       "    <tr style=\"text-align: right;\">\n",
       "      <th></th>\n",
       "      <th>drug</th>\n",
       "    </tr>\n",
       "  </thead>\n",
       "  <tbody>\n",
       "    <tr>\n",
       "      <th>0</th>\n",
       "      <td>CCCN1C(C)=CC=C2C(=O)NC(N)N=C21</td>\n",
       "    </tr>\n",
       "    <tr>\n",
       "      <th>1</th>\n",
       "      <td>CCNC(=O)C[C@@H]1N=C(c2ccc(Cl)cc2)c2cc(OC)ccc2-...</td>\n",
       "    </tr>\n",
       "    <tr>\n",
       "      <th>2</th>\n",
       "      <td>CO[C@@H]1[C@@H](COS(=O)(=O)[O-])O[C@H](O[C@H]2...</td>\n",
       "    </tr>\n",
       "    <tr>\n",
       "      <th>3</th>\n",
       "      <td>O=C(O)c1sc2cc(Cl)ccc2c1Cl</td>\n",
       "    </tr>\n",
       "    <tr>\n",
       "      <th>4</th>\n",
       "      <td>CCCCc1cc(N2CC[C@@H](NC)C2)nc(N)n1</td>\n",
       "    </tr>\n",
       "    <tr>\n",
       "      <th>...</th>\n",
       "      <td>...</td>\n",
       "    </tr>\n",
       "    <tr>\n",
       "      <th>7621</th>\n",
       "      <td>CO[C@@H]1[C@H](N(C)C(=O)c2ccccc2)C[C@H]2O[C@]1...</td>\n",
       "    </tr>\n",
       "    <tr>\n",
       "      <th>7622</th>\n",
       "      <td>CO[C@H]1O[C@H](CO)[C@H](O)[C@H](OCc2cn([C@@H](...</td>\n",
       "    </tr>\n",
       "    <tr>\n",
       "      <th>7623</th>\n",
       "      <td>CC(C)N1CCC(COc2ncc(C(=O)c3cccc(Cl)c3)n2C)CC1</td>\n",
       "    </tr>\n",
       "    <tr>\n",
       "      <th>7624</th>\n",
       "      <td>Cc1ccc(C(=O)NC2CC2)cc1NC(=O)c1cnn(-c2ncccc2C(F...</td>\n",
       "    </tr>\n",
       "    <tr>\n",
       "      <th>7625</th>\n",
       "      <td>Nc1nc(N)c(SCCc2ccc(C(=O)N[C@@H](CCC(=O)O)C(=O)...</td>\n",
       "    </tr>\n",
       "  </tbody>\n",
       "</table>\n",
       "<p>7626 rows × 1 columns</p>\n",
       "</div>"
      ],
      "text/plain": [
       "                                                   drug\n",
       "0                        CCCN1C(C)=CC=C2C(=O)NC(N)N=C21\n",
       "1     CCNC(=O)C[C@@H]1N=C(c2ccc(Cl)cc2)c2cc(OC)ccc2-...\n",
       "2     CO[C@@H]1[C@@H](COS(=O)(=O)[O-])O[C@H](O[C@H]2...\n",
       "3                             O=C(O)c1sc2cc(Cl)ccc2c1Cl\n",
       "4                     CCCCc1cc(N2CC[C@@H](NC)C2)nc(N)n1\n",
       "...                                                 ...\n",
       "7621  CO[C@@H]1[C@H](N(C)C(=O)c2ccccc2)C[C@H]2O[C@]1...\n",
       "7622  CO[C@H]1O[C@H](CO)[C@H](O)[C@H](OCc2cn([C@@H](...\n",
       "7623       CC(C)N1CCC(COc2ncc(C(=O)c3cccc(Cl)c3)n2C)CC1\n",
       "7624  Cc1ccc(C(=O)NC2CC2)cc1NC(=O)c1cnn(-c2ncccc2C(F...\n",
       "7625  Nc1nc(N)c(SCCc2ccc(C(=O)N[C@@H](CCC(=O)O)C(=O)...\n",
       "\n",
       "[7626 rows x 1 columns]"
      ]
     },
     "execution_count": 23,
     "metadata": {},
     "output_type": "execute_result"
    }
   ],
   "source": [
    "a=drug2\n",
    "a"
   ]
  },
  {
   "cell_type": "code",
   "execution_count": 24,
   "metadata": {},
   "outputs": [
    {
     "data": {
      "text/html": [
       "<div>\n",
       "<style scoped>\n",
       "    .dataframe tbody tr th:only-of-type {\n",
       "        vertical-align: middle;\n",
       "    }\n",
       "\n",
       "    .dataframe tbody tr th {\n",
       "        vertical-align: top;\n",
       "    }\n",
       "\n",
       "    .dataframe thead th {\n",
       "        text-align: right;\n",
       "    }\n",
       "</style>\n",
       "<table border=\"1\" class=\"dataframe\">\n",
       "  <thead>\n",
       "    <tr style=\"text-align: right;\">\n",
       "      <th></th>\n",
       "      <th>y_pred</th>\n",
       "    </tr>\n",
       "  </thead>\n",
       "  <tbody>\n",
       "    <tr>\n",
       "      <th>0</th>\n",
       "      <td>1023.971247</td>\n",
       "    </tr>\n",
       "    <tr>\n",
       "      <th>1</th>\n",
       "      <td>2589.495498</td>\n",
       "    </tr>\n",
       "    <tr>\n",
       "      <th>2</th>\n",
       "      <td>384.792022</td>\n",
       "    </tr>\n",
       "    <tr>\n",
       "      <th>3</th>\n",
       "      <td>39270.172156</td>\n",
       "    </tr>\n",
       "    <tr>\n",
       "      <th>4</th>\n",
       "      <td>545.782415</td>\n",
       "    </tr>\n",
       "    <tr>\n",
       "      <th>...</th>\n",
       "      <td>...</td>\n",
       "    </tr>\n",
       "    <tr>\n",
       "      <th>7621</th>\n",
       "      <td>9350.497793</td>\n",
       "    </tr>\n",
       "    <tr>\n",
       "      <th>7622</th>\n",
       "      <td>209808.980661</td>\n",
       "    </tr>\n",
       "    <tr>\n",
       "      <th>7623</th>\n",
       "      <td>5.683886</td>\n",
       "    </tr>\n",
       "    <tr>\n",
       "      <th>7624</th>\n",
       "      <td>17.696859</td>\n",
       "    </tr>\n",
       "    <tr>\n",
       "      <th>7625</th>\n",
       "      <td>1188.157255</td>\n",
       "    </tr>\n",
       "  </tbody>\n",
       "</table>\n",
       "<p>7626 rows × 1 columns</p>\n",
       "</div>"
      ],
      "text/plain": [
       "             y_pred\n",
       "0       1023.971247\n",
       "1       2589.495498\n",
       "2        384.792022\n",
       "3      39270.172156\n",
       "4        545.782415\n",
       "...             ...\n",
       "7621    9350.497793\n",
       "7622  209808.980661\n",
       "7623       5.683886\n",
       "7624      17.696859\n",
       "7625    1188.157255\n",
       "\n",
       "[7626 rows x 1 columns]"
      ]
     },
     "execution_count": 24,
     "metadata": {},
     "output_type": "execute_result"
    }
   ],
   "source": [
    "b=pd.DataFrame(y_pred,columns=['y_pred'])\n",
    "b"
   ]
  },
  {
   "cell_type": "code",
   "execution_count": 25,
   "metadata": {},
   "outputs": [
    {
     "data": {
      "text/html": [
       "<div>\n",
       "<style scoped>\n",
       "    .dataframe tbody tr th:only-of-type {\n",
       "        vertical-align: middle;\n",
       "    }\n",
       "\n",
       "    .dataframe tbody tr th {\n",
       "        vertical-align: top;\n",
       "    }\n",
       "\n",
       "    .dataframe thead th {\n",
       "        text-align: right;\n",
       "    }\n",
       "</style>\n",
       "<table border=\"1\" class=\"dataframe\">\n",
       "  <thead>\n",
       "    <tr style=\"text-align: right;\">\n",
       "      <th></th>\n",
       "      <th>drug</th>\n",
       "      <th>y_pred</th>\n",
       "    </tr>\n",
       "  </thead>\n",
       "  <tbody>\n",
       "    <tr>\n",
       "      <th>0</th>\n",
       "      <td>CCCN1C(C)=CC=C2C(=O)NC(N)N=C21</td>\n",
       "      <td>1023.971247</td>\n",
       "    </tr>\n",
       "    <tr>\n",
       "      <th>1</th>\n",
       "      <td>CCNC(=O)C[C@@H]1N=C(c2ccc(Cl)cc2)c2cc(OC)ccc2-...</td>\n",
       "      <td>2589.495498</td>\n",
       "    </tr>\n",
       "    <tr>\n",
       "      <th>2</th>\n",
       "      <td>CO[C@@H]1[C@@H](COS(=O)(=O)[O-])O[C@H](O[C@H]2...</td>\n",
       "      <td>384.792022</td>\n",
       "    </tr>\n",
       "    <tr>\n",
       "      <th>3</th>\n",
       "      <td>O=C(O)c1sc2cc(Cl)ccc2c1Cl</td>\n",
       "      <td>39270.172156</td>\n",
       "    </tr>\n",
       "    <tr>\n",
       "      <th>4</th>\n",
       "      <td>CCCCc1cc(N2CC[C@@H](NC)C2)nc(N)n1</td>\n",
       "      <td>545.782415</td>\n",
       "    </tr>\n",
       "    <tr>\n",
       "      <th>...</th>\n",
       "      <td>...</td>\n",
       "      <td>...</td>\n",
       "    </tr>\n",
       "    <tr>\n",
       "      <th>7621</th>\n",
       "      <td>CO[C@@H]1[C@H](N(C)C(=O)c2ccccc2)C[C@H]2O[C@]1...</td>\n",
       "      <td>9350.497793</td>\n",
       "    </tr>\n",
       "    <tr>\n",
       "      <th>7622</th>\n",
       "      <td>CO[C@H]1O[C@H](CO)[C@H](O)[C@H](OCc2cn([C@@H](...</td>\n",
       "      <td>209808.980661</td>\n",
       "    </tr>\n",
       "    <tr>\n",
       "      <th>7623</th>\n",
       "      <td>CC(C)N1CCC(COc2ncc(C(=O)c3cccc(Cl)c3)n2C)CC1</td>\n",
       "      <td>5.683886</td>\n",
       "    </tr>\n",
       "    <tr>\n",
       "      <th>7624</th>\n",
       "      <td>Cc1ccc(C(=O)NC2CC2)cc1NC(=O)c1cnn(-c2ncccc2C(F...</td>\n",
       "      <td>17.696859</td>\n",
       "    </tr>\n",
       "    <tr>\n",
       "      <th>7625</th>\n",
       "      <td>Nc1nc(N)c(SCCc2ccc(C(=O)N[C@@H](CCC(=O)O)C(=O)...</td>\n",
       "      <td>1188.157255</td>\n",
       "    </tr>\n",
       "  </tbody>\n",
       "</table>\n",
       "<p>7626 rows × 2 columns</p>\n",
       "</div>"
      ],
      "text/plain": [
       "                                                   drug         y_pred\n",
       "0                        CCCN1C(C)=CC=C2C(=O)NC(N)N=C21    1023.971247\n",
       "1     CCNC(=O)C[C@@H]1N=C(c2ccc(Cl)cc2)c2cc(OC)ccc2-...    2589.495498\n",
       "2     CO[C@@H]1[C@@H](COS(=O)(=O)[O-])O[C@H](O[C@H]2...     384.792022\n",
       "3                             O=C(O)c1sc2cc(Cl)ccc2c1Cl   39270.172156\n",
       "4                     CCCCc1cc(N2CC[C@@H](NC)C2)nc(N)n1     545.782415\n",
       "...                                                 ...            ...\n",
       "7621  CO[C@@H]1[C@H](N(C)C(=O)c2ccccc2)C[C@H]2O[C@]1...    9350.497793\n",
       "7622  CO[C@H]1O[C@H](CO)[C@H](O)[C@H](OCc2cn([C@@H](...  209808.980661\n",
       "7623       CC(C)N1CCC(COc2ncc(C(=O)c3cccc(Cl)c3)n2C)CC1       5.683886\n",
       "7624  Cc1ccc(C(=O)NC2CC2)cc1NC(=O)c1cnn(-c2ncccc2C(F...      17.696859\n",
       "7625  Nc1nc(N)c(SCCc2ccc(C(=O)N[C@@H](CCC(=O)O)C(=O)...    1188.157255\n",
       "\n",
       "[7626 rows x 2 columns]"
      ]
     },
     "execution_count": 25,
     "metadata": {},
     "output_type": "execute_result"
    }
   ],
   "source": [
    "c=pd.concat([a,b],axis=1)\n",
    "c"
   ]
  },
  {
   "cell_type": "code",
   "execution_count": 26,
   "metadata": {},
   "outputs": [],
   "source": [
    "c.to_csv('y_pred_TIE2_MPNN_CNN_DTC.csv')"
   ]
  },
  {
   "cell_type": "code",
   "execution_count": 27,
   "metadata": {},
   "outputs": [
    {
     "data": {
      "text/html": [
       "<div>\n",
       "<style scoped>\n",
       "    .dataframe tbody tr th:only-of-type {\n",
       "        vertical-align: middle;\n",
       "    }\n",
       "\n",
       "    .dataframe tbody tr th {\n",
       "        vertical-align: top;\n",
       "    }\n",
       "\n",
       "    .dataframe thead th {\n",
       "        text-align: right;\n",
       "    }\n",
       "</style>\n",
       "<table border=\"1\" class=\"dataframe\">\n",
       "  <thead>\n",
       "    <tr style=\"text-align: right;\">\n",
       "      <th></th>\n",
       "      <th>drug</th>\n",
       "      <th>y_pred</th>\n",
       "    </tr>\n",
       "  </thead>\n",
       "  <tbody>\n",
       "    <tr>\n",
       "      <th>1477</th>\n",
       "      <td>OC(c1ccccc1)(c1ccccc1)C12CC[N+](CCOCc3ccc(Cl)c...</td>\n",
       "      <td>8.600290e-01</td>\n",
       "    </tr>\n",
       "    <tr>\n",
       "      <th>6840</th>\n",
       "      <td>Cc1cccc(COCC[N+]23CCC(C(O)(c4ccccc4)c4ccccc4)(...</td>\n",
       "      <td>9.506730e-01</td>\n",
       "    </tr>\n",
       "    <tr>\n",
       "      <th>5502</th>\n",
       "      <td>Cc1ccc(COCC[N+]23CCC(C(O)(c4ccccc4)c4ccccc4)(C...</td>\n",
       "      <td>1.156147e+00</td>\n",
       "    </tr>\n",
       "    <tr>\n",
       "      <th>3841</th>\n",
       "      <td>OC(c1ccccc1)(c1ccccc1)C12CC[N+](CCOCc3ccc(Br)c...</td>\n",
       "      <td>1.167769e+00</td>\n",
       "    </tr>\n",
       "    <tr>\n",
       "      <th>4685</th>\n",
       "      <td>C#C[C@]1(O)CC[C@H]2[C@@H]3CC[C@H]4CC(=O)CC[C@]...</td>\n",
       "      <td>1.174672e+00</td>\n",
       "    </tr>\n",
       "    <tr>\n",
       "      <th>...</th>\n",
       "      <td>...</td>\n",
       "      <td>...</td>\n",
       "    </tr>\n",
       "    <tr>\n",
       "      <th>2105</th>\n",
       "      <td>CO[C@@H]1O[C@H](CO)[C@H](O)[C@H](O)[C@@H]1O</td>\n",
       "      <td>1.108709e+07</td>\n",
       "    </tr>\n",
       "    <tr>\n",
       "      <th>1242</th>\n",
       "      <td>Cc1cn([C@@H]2O[C@H](CO)[C@@H](O)[C@H]2O)c(=O)[...</td>\n",
       "      <td>1.415210e+07</td>\n",
       "    </tr>\n",
       "    <tr>\n",
       "      <th>1889</th>\n",
       "      <td>CCCCCO[C@H]1O[C@H](COS(=O)(=O)[O-])[C@@H](O[C@...</td>\n",
       "      <td>1.985122e+07</td>\n",
       "    </tr>\n",
       "    <tr>\n",
       "      <th>956</th>\n",
       "      <td>OC[C@H]1O[C@H](O[C@]2(CO)O[C@H](CO)[C@@H](O)[C...</td>\n",
       "      <td>4.616619e+07</td>\n",
       "    </tr>\n",
       "    <tr>\n",
       "      <th>2236</th>\n",
       "      <td>C[S+](C)[O-]</td>\n",
       "      <td>1.069806e+08</td>\n",
       "    </tr>\n",
       "  </tbody>\n",
       "</table>\n",
       "<p>7626 rows × 2 columns</p>\n",
       "</div>"
      ],
      "text/plain": [
       "                                                   drug        y_pred\n",
       "1477  OC(c1ccccc1)(c1ccccc1)C12CC[N+](CCOCc3ccc(Cl)c...  8.600290e-01\n",
       "6840  Cc1cccc(COCC[N+]23CCC(C(O)(c4ccccc4)c4ccccc4)(...  9.506730e-01\n",
       "5502  Cc1ccc(COCC[N+]23CCC(C(O)(c4ccccc4)c4ccccc4)(C...  1.156147e+00\n",
       "3841  OC(c1ccccc1)(c1ccccc1)C12CC[N+](CCOCc3ccc(Br)c...  1.167769e+00\n",
       "4685  C#C[C@]1(O)CC[C@H]2[C@@H]3CC[C@H]4CC(=O)CC[C@]...  1.174672e+00\n",
       "...                                                 ...           ...\n",
       "2105        CO[C@@H]1O[C@H](CO)[C@H](O)[C@H](O)[C@@H]1O  1.108709e+07\n",
       "1242  Cc1cn([C@@H]2O[C@H](CO)[C@@H](O)[C@H]2O)c(=O)[...  1.415210e+07\n",
       "1889  CCCCCO[C@H]1O[C@H](COS(=O)(=O)[O-])[C@@H](O[C@...  1.985122e+07\n",
       "956   OC[C@H]1O[C@H](O[C@]2(CO)O[C@H](CO)[C@@H](O)[C...  4.616619e+07\n",
       "2236                                       C[S+](C)[O-]  1.069806e+08\n",
       "\n",
       "[7626 rows x 2 columns]"
      ]
     },
     "execution_count": 27,
     "metadata": {},
     "output_type": "execute_result"
    }
   ],
   "source": [
    "d=c.sort_values(axis=0, ascending=True, by='y_pred')\n",
    "d"
   ]
  },
  {
   "cell_type": "code",
   "execution_count": 28,
   "metadata": {},
   "outputs": [],
   "source": [
    "d.to_csv('y_pred_TIE2_MPNN_CNN_DTC_SORTED.csv')"
   ]
  },
  {
   "cell_type": "code",
   "execution_count": null,
   "metadata": {},
   "outputs": [],
   "source": []
  }
 ],
 "metadata": {
  "kernelspec": {
   "display_name": "Python 3",
   "language": "python",
   "name": "python3"
  },
  "language_info": {
   "codemirror_mode": {
    "name": "ipython",
    "version": 3
   },
   "file_extension": ".py",
   "mimetype": "text/x-python",
   "name": "python",
   "nbconvert_exporter": "python",
   "pygments_lexer": "ipython3",
   "version": "3.8.5"
  }
 },
 "nbformat": 4,
 "nbformat_minor": 2
}
