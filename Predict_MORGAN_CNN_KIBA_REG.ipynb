{
 "cells": [
  {
   "cell_type": "code",
   "execution_count": 1,
   "metadata": {},
   "outputs": [
    {
     "name": "stdout",
     "output_type": "stream",
     "text": [
      "/root/data/DeepPurpose\n"
     ]
    }
   ],
   "source": [
    "import numpy as np\n",
    "import pandas as pd\n",
    "import warnings\n",
    "warnings.filterwarnings(\"ignore\")\n",
    "import os\n",
    "print(os.path.abspath('.'))"
   ]
  },
  {
   "cell_type": "code",
   "execution_count": 2,
   "metadata": {},
   "outputs": [],
   "source": [
    "import seaborn as sns\n",
    "import matplotlib.pyplot as plt\n",
    "\n",
    "from lifelines.utils import concordance_index\n",
    "from sklearn.metrics import mean_squared_error"
   ]
  },
  {
   "cell_type": "code",
   "execution_count": 3,
   "metadata": {},
   "outputs": [],
   "source": [
    "from DeepPurpose import oneliner\n",
    "from DeepPurpose.dataset import *\n",
    "from DeepPurpose import utils, models, dataset"
   ]
  },
  {
   "cell_type": "code",
   "execution_count": 4,
   "metadata": {},
   "outputs": [
    {
     "data": {
      "text/plain": [
       "<DeepPurpose.models.DBTA at 0x7f2349e3fe90>"
      ]
     },
     "execution_count": 4,
     "metadata": {},
     "output_type": "execute_result"
    }
   ],
   "source": [
    "model2 = models.model_pretrained(path_dir = './model_MORGAN_CNN/')\n",
    "model2"
   ]
  },
  {
   "cell_type": "code",
   "execution_count": 5,
   "metadata": {},
   "outputs": [
    {
     "data": {
      "text/plain": [
       "{'input_dim_drug': 1024,\n",
       " 'input_dim_protein': 8420,\n",
       " 'hidden_dim_drug': 256,\n",
       " 'hidden_dim_protein': 256,\n",
       " 'cls_hidden_dims': [1024, 1024, 512],\n",
       " 'batch_size': 512,\n",
       " 'train_epoch': 50,\n",
       " 'test_every_X_epoch': 10,\n",
       " 'LR': 0.001,\n",
       " 'drug_encoding': 'Morgan',\n",
       " 'target_encoding': 'CNN',\n",
       " 'result_folder': './result/',\n",
       " 'binary': False,\n",
       " 'num_workers': 10,\n",
       " 'mlp_hidden_dims_drug': [1024, 256, 64],\n",
       " 'cnn_target_filters': [32, 64, 96],\n",
       " 'cnn_target_kernels': [4, 8, 12],\n",
       " 'decay': 0}"
      ]
     },
     "execution_count": 5,
     "metadata": {},
     "output_type": "execute_result"
    }
   ],
   "source": [
    "model2.config"
   ]
  },
  {
   "cell_type": "code",
   "execution_count": 6,
   "metadata": {},
   "outputs": [
    {
     "name": "stdout",
     "output_type": "stream",
     "text": [
      "Done!\n"
     ]
    }
   ],
   "source": [
    "affinity = pd.read_csv('affinity.txt', header=None, sep = '\\t')\n",
    "affinity = affinity.fillna(-1)\n",
    "\n",
    "with open('target_seq.txt') as f:\n",
    "    target = json.load(f)\n",
    "\n",
    "with open('SMILES.txt') as f:\n",
    "    drug = json.load(f)\n",
    "\n",
    "target = list(target.values())\n",
    "drug = list(drug.values())\n",
    "\n",
    "SMILES = []\n",
    "Target_seq = []\n",
    "y = []\n",
    "\n",
    "for i in range(len(drug)):\n",
    "    for j in range(len(target)):\n",
    "        if affinity.values[i, j] != -1:\n",
    "            SMILES.append(drug[i])\n",
    "            Target_seq.append(target[j])\n",
    "            y.append(affinity.values[i, j])\n",
    "\n",
    "Smile, Target, y = np.array(SMILES), np.array(Target_seq), np.array(y)\n",
    "print('Done!')"
   ]
  },
  {
   "cell_type": "code",
   "execution_count": null,
   "metadata": {},
   "outputs": [],
   "source": [
    "#-----performance of the model on all data(test subset)"
   ]
  },
  {
   "cell_type": "code",
   "execution_count": 7,
   "metadata": {},
   "outputs": [
    {
     "name": "stdout",
     "output_type": "stream",
     "text": [
      "in total: 118254 drug-target pairs\n",
      "encoding drug...\n",
      "unique drugs: 2068\n",
      "drug encoding finished...\n",
      "encoding protein...\n",
      "unique target sequence: 229\n",
      "protein encoding finished...\n",
      "splitting dataset...\n",
      "do not do train/test split on the data for already splitted data\n"
     ]
    }
   ],
   "source": [
    "X_drug = Smile.tolist()\n",
    "X_target = Target.tolist() \n",
    "y = y.tolist()\n",
    "\n",
    "drug_encoding, target_encoding = 'Morgan', 'CNN'\n",
    "X = utils.data_process(X_drug, X_target, y, \n",
    "                                drug_encoding, target_encoding, \n",
    "                                split_method='no_split')\n"
   ]
  },
  {
   "cell_type": "code",
   "execution_count": 8,
   "metadata": {},
   "outputs": [
    {
     "name": "stdout",
     "output_type": "stream",
     "text": [
      "predicting...\n"
     ]
    }
   ],
   "source": [
    "y_pred = model2.predict(X) \n",
    "y_label = y\n",
    "# print(uncer)"
   ]
  },
  {
   "cell_type": "code",
   "execution_count": 9,
   "metadata": {},
   "outputs": [],
   "source": [
    "y_pred_ = pd.DataFrame(y_pred, columns=['y_pred'])\n",
    "y_pred_.to_csv('y_pred_MORGAN_CNN.csv')"
   ]
  },
  {
   "cell_type": "code",
   "execution_count": 10,
   "metadata": {},
   "outputs": [
    {
     "name": "stdout",
     "output_type": "stream",
     "text": [
      "0.008668368760516694\n",
      "0.9816010582143287\n"
     ]
    }
   ],
   "source": [
    "MSE = mean_squared_error(y_label, y_pred)\n",
    "CI = concordance_index(y_label, y_pred)\n",
    "\n",
    "print(MSE)\n",
    "print(CI)"
   ]
  },
  {
   "cell_type": "code",
   "execution_count": 11,
   "metadata": {},
   "outputs": [
    {
     "data": {
      "image/png": "[encoded data removed]",
      "text/plain": [
       "<Figure size 1296x432 with 2 Axes>"
      ]
     },
     "metadata": {
      "needs_background": "light"
     },
     "output_type": "display_data"
    }
   ],
   "source": [
    "fig, ax = plt.subplots(figsize = (18, 6))\n",
    "plt.subplot(1, 2, 1);\n",
    "plt.hist(y_pred, bins=20);\n",
    "plt.title('y_pred');\n",
    "plt.subplot(1, 2, 2);\n",
    "sns.violinplot(data=y_pred);\n",
    "plt.title('Violinplot of y_pred');"
   ]
  },
  {
   "cell_type": "code",
   "execution_count": 13,
   "metadata": {},
   "outputs": [],
   "source": [
    "#-----screen potential drugs for Tie2"
   ]
  },
  {
   "cell_type": "code",
   "execution_count": 14,
   "metadata": {},
   "outputs": [
    {
     "name": "stdout",
     "output_type": "stream",
     "text": [
      "in total: 2111 drug-target pairs\n",
      "encoding drug...\n",
      "unique drugs: 2068\n",
      "drug encoding finished...\n",
      "encoding protein...\n",
      "unique target sequence: 1\n",
      "protein encoding finished...\n",
      "splitting dataset...\n",
      "do not do train/test split on the data for already splitted data\n"
     ]
    }
   ],
   "source": [
    "X_drug = drug\n",
    "X_target = ['MDSLASLVLCGVSLLLSGTVEGAMDLILINSLPLVSDAETSLTCIASGWRPHEPITIGRDFEALMNQHQDPLEVTQDVTREWAKKVVWKREKASKINGAYFCEGRVRGEAIRIRTMKMRQQASFLPATLTMTVDKGDNVNISFKKVLIKEEDAVIYKNGSFIHSVPRHEVPDILEVHLPHAQPQDAGVYSARYIGGNLFTSAFTRLIVRRCEAQKWGPECNHLCTACMNNGVCHEDTGECICPPGFMGRTCEKACELHTFGRTCKERCSGQEGCKSYVFCLPDPYGCSCATGWKGLQCNEACHPGFYGPDCKLRCSCNNGEMCDRFQGCLCSPGWQGLQCEREGIQRMTPKIVDLPDHIEVNSGKFNPICKASGWPLPTNEEMTLVKPDGTVLHPKDFNHTDHFSVAIFTIHRILPPDSGVWVCSVNTVAGMVEKPFNISVKVLPKPLNAPNVIDTGHNFAVINISSEPYFGDGPIKSKKLLYKPVNHYEAWQHIQVTNEIVTLNYLEPRTEYELCVQLVRRGEGGEGHPGPVRRFTTASIGLPPPRGLNLLPKSQTTLNLTWQPIFPSSEDDFYVEVERRSVQKSDQQNIKVPGNLTSVLLNNLHPREQYVVRARVNTKAQGEWSEDLTAWTLSDILPPQPENIKISNITHSSAVISWTILDGYSISSITIRYKVQGKNEDQHVDVKIKNATITQYQLKGLEPETAYQVDIFAENNIGSSNPAFSHELVTLPESQAPADLGGGKMLLIAILGSAGMTCLTVLLAFLIILQLKRANVQRRMAQAFQNVREEPAVQFNSGTLALNRKVKNNPDPTIYPVLDWNDIKFQDVIGEGNFGQVLKARIKKDGLRMDAAIKRMKEYASKDDHRDFAGELEVLCKLGHHPNIINLLGACEHRGYLYLAIEYAPHGNLLDFLRKSRVLETDPAFAIANSTASTLSSQQLLHFAADVARGMDYLSQKQFIHRDLAARNILVGENYVAKIADFGLSRGQEVYVKKTMGRLPVRWMAIESLNYSVYTTNSDVWSYGVLLWEIVSLGGTPYCGMTCAELYEKLPQGYRLEKPLNCDDEVYDLMRQCWREKPYERPSFAQILVSLNRMLEERKTYVNTTLYEKFTYAGIDCSAEEAA']\n",
    "y = np.ones(len(drug)).tolist()\n",
    "\n",
    "drug_encoding, target_encoding = 'Morgan', 'CNN'\n",
    "X = utils.data_process(X_drug, X_target, y, \n",
    "                                drug_encoding, target_encoding, \n",
    "                                split_method='no_split')\n"
   ]
  },
  {
   "cell_type": "code",
   "execution_count": 15,
   "metadata": {},
   "outputs": [
    {
     "name": "stdout",
     "output_type": "stream",
     "text": [
      "predicting...\n"
     ]
    }
   ],
   "source": [
    "y_pred = model2.predict(X) \n",
    "#y_pred, uncer = model2.predict(X) \n",
    "y_label = y\n",
    "#print(uncer)"
   ]
  },
  {
   "cell_type": "code",
   "execution_count": 16,
   "metadata": {},
   "outputs": [
    {
     "data": {
      "image/png": "[encoded data removed]",
      "text/plain": [
       "<Figure size 1296x432 with 2 Axes>"
      ]
     },
     "metadata": {
      "needs_background": "light"
     },
     "output_type": "display_data"
    }
   ],
   "source": [
    "fig, ax = plt.subplots(figsize = (18, 6))\n",
    "plt.subplot(1, 2, 1);\n",
    "plt.hist(y_pred, bins=20);\n",
    "plt.title('y_pred');\n",
    "plt.subplot(1, 2, 2);\n",
    "sns.violinplot(data=y_pred);\n",
    "plt.title('Violinplot of y_pred');"
   ]
  },
  {
   "cell_type": "code",
   "execution_count": 18,
   "metadata": {},
   "outputs": [
    {
     "data": {
      "text/html": [
       "<div>\n",
       "<style scoped>\n",
       "    .dataframe tbody tr th:only-of-type {\n",
       "        vertical-align: middle;\n",
       "    }\n",
       "\n",
       "    .dataframe tbody tr th {\n",
       "        vertical-align: top;\n",
       "    }\n",
       "\n",
       "    .dataframe thead th {\n",
       "        text-align: right;\n",
       "    }\n",
       "</style>\n",
       "<table border=\"1\" class=\"dataframe\">\n",
       "  <thead>\n",
       "    <tr style=\"text-align: right;\">\n",
       "      <th></th>\n",
       "      <th>drug</th>\n",
       "    </tr>\n",
       "  </thead>\n",
       "  <tbody>\n",
       "    <tr>\n",
       "      <th>0</th>\n",
       "      <td>COC1=C(C=C2C(=C1)CCN=C2C3=CC(=C(C=C3)Cl)Cl)Cl</td>\n",
       "    </tr>\n",
       "    <tr>\n",
       "      <th>1</th>\n",
       "      <td>COC1=C(C=C2C(=C1)CCN=C2C3=CC(=CC=C3)Cl)Cl</td>\n",
       "    </tr>\n",
       "    <tr>\n",
       "      <th>2</th>\n",
       "      <td>C1COCCN1C2=CC(=CC=C2)NC3=NC=CC(=N3)C4=C(N=C5N4...</td>\n",
       "    </tr>\n",
       "    <tr>\n",
       "      <th>3</th>\n",
       "      <td>C1=CC2=C(C=C1C3=NC(=NC=C3)N)NN=C2N</td>\n",
       "    </tr>\n",
       "    <tr>\n",
       "      <th>4</th>\n",
       "      <td>CNC1=NC(=CN=C1)C2=CNC(=O)C(=C2)NC(=O)C3=CC=C(C...</td>\n",
       "    </tr>\n",
       "    <tr>\n",
       "      <th>...</th>\n",
       "      <td>...</td>\n",
       "    </tr>\n",
       "    <tr>\n",
       "      <th>2106</th>\n",
       "      <td>CC1CC=CC(=O)CCCC=CC2=CC(=CC(=C2C(=O)O1)O)OC</td>\n",
       "    </tr>\n",
       "    <tr>\n",
       "      <th>2107</th>\n",
       "      <td>CC1CC=CC(=O)CCCCCC2=CC(=CC(=C2C(=O)O1)O)OC</td>\n",
       "    </tr>\n",
       "    <tr>\n",
       "      <th>2108</th>\n",
       "      <td>CCN1C2=C(C=CC(=C2)OC)SC1=CC(=O)C</td>\n",
       "    </tr>\n",
       "    <tr>\n",
       "      <th>2109</th>\n",
       "      <td>CN1C=CC2=C1C3=C(C=C2)C4=C(C5=C(N4)C(=CC=C5)CCC...</td>\n",
       "    </tr>\n",
       "    <tr>\n",
       "      <th>2110</th>\n",
       "      <td>CCCC1=C(NC=N1)CNC2=CC(=C3C(=C2)C(=C(C=N3)C#N)N...</td>\n",
       "    </tr>\n",
       "  </tbody>\n",
       "</table>\n",
       "<p>2111 rows × 1 columns</p>\n",
       "</div>"
      ],
      "text/plain": [
       "                                                   drug\n",
       "0         COC1=C(C=C2C(=C1)CCN=C2C3=CC(=C(C=C3)Cl)Cl)Cl\n",
       "1             COC1=C(C=C2C(=C1)CCN=C2C3=CC(=CC=C3)Cl)Cl\n",
       "2     C1COCCN1C2=CC(=CC=C2)NC3=NC=CC(=N3)C4=C(N=C5N4...\n",
       "3                    C1=CC2=C(C=C1C3=NC(=NC=C3)N)NN=C2N\n",
       "4     CNC1=NC(=CN=C1)C2=CNC(=O)C(=C2)NC(=O)C3=CC=C(C...\n",
       "...                                                 ...\n",
       "2106        CC1CC=CC(=O)CCCC=CC2=CC(=CC(=C2C(=O)O1)O)OC\n",
       "2107         CC1CC=CC(=O)CCCCCC2=CC(=CC(=C2C(=O)O1)O)OC\n",
       "2108                   CCN1C2=C(C=CC(=C2)OC)SC1=CC(=O)C\n",
       "2109  CN1C=CC2=C1C3=C(C=C2)C4=C(C5=C(N4)C(=CC=C5)CCC...\n",
       "2110  CCCC1=C(NC=N1)CNC2=CC(=C3C(=C2)C(=C(C=N3)C#N)N...\n",
       "\n",
       "[2111 rows x 1 columns]"
      ]
     },
     "execution_count": 18,
     "metadata": {},
     "output_type": "execute_result"
    }
   ],
   "source": [
    "a=pd.DataFrame(drug,columns=['drug'])\n",
    "a"
   ]
  },
  {
   "cell_type": "code",
   "execution_count": 19,
   "metadata": {},
   "outputs": [
    {
     "data": {
      "text/html": [
       "<div>\n",
       "<style scoped>\n",
       "    .dataframe tbody tr th:only-of-type {\n",
       "        vertical-align: middle;\n",
       "    }\n",
       "\n",
       "    .dataframe tbody tr th {\n",
       "        vertical-align: top;\n",
       "    }\n",
       "\n",
       "    .dataframe thead th {\n",
       "        text-align: right;\n",
       "    }\n",
       "</style>\n",
       "<table border=\"1\" class=\"dataframe\">\n",
       "  <thead>\n",
       "    <tr style=\"text-align: right;\">\n",
       "      <th></th>\n",
       "      <th>y_pred</th>\n",
       "    </tr>\n",
       "  </thead>\n",
       "  <tbody>\n",
       "    <tr>\n",
       "      <th>0</th>\n",
       "      <td>11.103197</td>\n",
       "    </tr>\n",
       "    <tr>\n",
       "      <th>1</th>\n",
       "      <td>11.048192</td>\n",
       "    </tr>\n",
       "    <tr>\n",
       "      <th>2</th>\n",
       "      <td>12.434381</td>\n",
       "    </tr>\n",
       "    <tr>\n",
       "      <th>3</th>\n",
       "      <td>12.242997</td>\n",
       "    </tr>\n",
       "    <tr>\n",
       "      <th>4</th>\n",
       "      <td>12.082492</td>\n",
       "    </tr>\n",
       "    <tr>\n",
       "      <th>...</th>\n",
       "      <td>...</td>\n",
       "    </tr>\n",
       "    <tr>\n",
       "      <th>2106</th>\n",
       "      <td>11.886885</td>\n",
       "    </tr>\n",
       "    <tr>\n",
       "      <th>2107</th>\n",
       "      <td>11.984346</td>\n",
       "    </tr>\n",
       "    <tr>\n",
       "      <th>2108</th>\n",
       "      <td>12.461342</td>\n",
       "    </tr>\n",
       "    <tr>\n",
       "      <th>2109</th>\n",
       "      <td>11.528559</td>\n",
       "    </tr>\n",
       "    <tr>\n",
       "      <th>2110</th>\n",
       "      <td>10.481603</td>\n",
       "    </tr>\n",
       "  </tbody>\n",
       "</table>\n",
       "<p>2111 rows × 1 columns</p>\n",
       "</div>"
      ],
      "text/plain": [
       "         y_pred\n",
       "0     11.103197\n",
       "1     11.048192\n",
       "2     12.434381\n",
       "3     12.242997\n",
       "4     12.082492\n",
       "...         ...\n",
       "2106  11.886885\n",
       "2107  11.984346\n",
       "2108  12.461342\n",
       "2109  11.528559\n",
       "2110  10.481603\n",
       "\n",
       "[2111 rows x 1 columns]"
      ]
     },
     "execution_count": 19,
     "metadata": {},
     "output_type": "execute_result"
    }
   ],
   "source": [
    "b=pd.DataFrame(y_pred,columns=['y_pred'])\n",
    "b"
   ]
  },
  {
   "cell_type": "code",
   "execution_count": 20,
   "metadata": {},
   "outputs": [
    {
     "data": {
      "text/html": [
       "<div>\n",
       "<style scoped>\n",
       "    .dataframe tbody tr th:only-of-type {\n",
       "        vertical-align: middle;\n",
       "    }\n",
       "\n",
       "    .dataframe tbody tr th {\n",
       "        vertical-align: top;\n",
       "    }\n",
       "\n",
       "    .dataframe thead th {\n",
       "        text-align: right;\n",
       "    }\n",
       "</style>\n",
       "<table border=\"1\" class=\"dataframe\">\n",
       "  <thead>\n",
       "    <tr style=\"text-align: right;\">\n",
       "      <th></th>\n",
       "      <th>drug</th>\n",
       "      <th>y_pred</th>\n",
       "    </tr>\n",
       "  </thead>\n",
       "  <tbody>\n",
       "    <tr>\n",
       "      <th>0</th>\n",
       "      <td>COC1=C(C=C2C(=C1)CCN=C2C3=CC(=C(C=C3)Cl)Cl)Cl</td>\n",
       "      <td>11.103197</td>\n",
       "    </tr>\n",
       "    <tr>\n",
       "      <th>1</th>\n",
       "      <td>COC1=C(C=C2C(=C1)CCN=C2C3=CC(=CC=C3)Cl)Cl</td>\n",
       "      <td>11.048192</td>\n",
       "    </tr>\n",
       "    <tr>\n",
       "      <th>2</th>\n",
       "      <td>C1COCCN1C2=CC(=CC=C2)NC3=NC=CC(=N3)C4=C(N=C5N4...</td>\n",
       "      <td>12.434381</td>\n",
       "    </tr>\n",
       "    <tr>\n",
       "      <th>3</th>\n",
       "      <td>C1=CC2=C(C=C1C3=NC(=NC=C3)N)NN=C2N</td>\n",
       "      <td>12.242997</td>\n",
       "    </tr>\n",
       "    <tr>\n",
       "      <th>4</th>\n",
       "      <td>CNC1=NC(=CN=C1)C2=CNC(=O)C(=C2)NC(=O)C3=CC=C(C...</td>\n",
       "      <td>12.082492</td>\n",
       "    </tr>\n",
       "    <tr>\n",
       "      <th>...</th>\n",
       "      <td>...</td>\n",
       "      <td>...</td>\n",
       "    </tr>\n",
       "    <tr>\n",
       "      <th>2106</th>\n",
       "      <td>CC1CC=CC(=O)CCCC=CC2=CC(=CC(=C2C(=O)O1)O)OC</td>\n",
       "      <td>11.886885</td>\n",
       "    </tr>\n",
       "    <tr>\n",
       "      <th>2107</th>\n",
       "      <td>CC1CC=CC(=O)CCCCCC2=CC(=CC(=C2C(=O)O1)O)OC</td>\n",
       "      <td>11.984346</td>\n",
       "    </tr>\n",
       "    <tr>\n",
       "      <th>2108</th>\n",
       "      <td>CCN1C2=C(C=CC(=C2)OC)SC1=CC(=O)C</td>\n",
       "      <td>12.461342</td>\n",
       "    </tr>\n",
       "    <tr>\n",
       "      <th>2109</th>\n",
       "      <td>CN1C=CC2=C1C3=C(C=C2)C4=C(C5=C(N4)C(=CC=C5)CCC...</td>\n",
       "      <td>11.528559</td>\n",
       "    </tr>\n",
       "    <tr>\n",
       "      <th>2110</th>\n",
       "      <td>CCCC1=C(NC=N1)CNC2=CC(=C3C(=C2)C(=C(C=N3)C#N)N...</td>\n",
       "      <td>10.481603</td>\n",
       "    </tr>\n",
       "  </tbody>\n",
       "</table>\n",
       "<p>2111 rows × 2 columns</p>\n",
       "</div>"
      ],
      "text/plain": [
       "                                                   drug     y_pred\n",
       "0         COC1=C(C=C2C(=C1)CCN=C2C3=CC(=C(C=C3)Cl)Cl)Cl  11.103197\n",
       "1             COC1=C(C=C2C(=C1)CCN=C2C3=CC(=CC=C3)Cl)Cl  11.048192\n",
       "2     C1COCCN1C2=CC(=CC=C2)NC3=NC=CC(=N3)C4=C(N=C5N4...  12.434381\n",
       "3                    C1=CC2=C(C=C1C3=NC(=NC=C3)N)NN=C2N  12.242997\n",
       "4     CNC1=NC(=CN=C1)C2=CNC(=O)C(=C2)NC(=O)C3=CC=C(C...  12.082492\n",
       "...                                                 ...        ...\n",
       "2106        CC1CC=CC(=O)CCCC=CC2=CC(=CC(=C2C(=O)O1)O)OC  11.886885\n",
       "2107         CC1CC=CC(=O)CCCCCC2=CC(=CC(=C2C(=O)O1)O)OC  11.984346\n",
       "2108                   CCN1C2=C(C=CC(=C2)OC)SC1=CC(=O)C  12.461342\n",
       "2109  CN1C=CC2=C1C3=C(C=C2)C4=C(C5=C(N4)C(=CC=C5)CCC...  11.528559\n",
       "2110  CCCC1=C(NC=N1)CNC2=CC(=C3C(=C2)C(=C(C=N3)C#N)N...  10.481603\n",
       "\n",
       "[2111 rows x 2 columns]"
      ]
     },
     "execution_count": 20,
     "metadata": {},
     "output_type": "execute_result"
    }
   ],
   "source": [
    "c=pd.concat([a,b],axis=1)\n",
    "c"
   ]
  },
  {
   "cell_type": "code",
   "execution_count": 21,
   "metadata": {},
   "outputs": [
    {
     "data": {
      "text/html": [
       "<div>\n",
       "<style scoped>\n",
       "    .dataframe tbody tr th:only-of-type {\n",
       "        vertical-align: middle;\n",
       "    }\n",
       "\n",
       "    .dataframe tbody tr th {\n",
       "        vertical-align: top;\n",
       "    }\n",
       "\n",
       "    .dataframe thead th {\n",
       "        text-align: right;\n",
       "    }\n",
       "</style>\n",
       "<table border=\"1\" class=\"dataframe\">\n",
       "  <thead>\n",
       "    <tr style=\"text-align: right;\">\n",
       "      <th></th>\n",
       "      <th>drug</th>\n",
       "      <th>y_pred</th>\n",
       "    </tr>\n",
       "  </thead>\n",
       "  <tbody>\n",
       "    <tr>\n",
       "      <th>1364</th>\n",
       "      <td>CC1=C(C=C(C=C1)C(=O)NC2=CC(=C(C=C2)CN3CCN(CC3)...</td>\n",
       "      <td>14.825457</td>\n",
       "    </tr>\n",
       "    <tr>\n",
       "      <th>1035</th>\n",
       "      <td>CC1=CC(=C(C2=C1C3=CC(=CC(=C3C(=O)O2)O)OC)O)O</td>\n",
       "      <td>14.763484</td>\n",
       "    </tr>\n",
       "    <tr>\n",
       "      <th>1684</th>\n",
       "      <td>C1=CC=C2C(=C1)C=C(S2)C3=C(C4=CC=CC=C4N3CCCSC(=...</td>\n",
       "      <td>14.575788</td>\n",
       "    </tr>\n",
       "    <tr>\n",
       "      <th>694</th>\n",
       "      <td>C1CCC(C1)N2C3=C(C(=N2)C4=CC(=C(C=C4)Cl)O)C(=NC...</td>\n",
       "      <td>14.493332</td>\n",
       "    </tr>\n",
       "    <tr>\n",
       "      <th>1921</th>\n",
       "      <td>CC12C(C(CC(O1)N3C4=C(C=C(C=C4)O)C5=C6C(=C7C8=C...</td>\n",
       "      <td>14.479553</td>\n",
       "    </tr>\n",
       "    <tr>\n",
       "      <th>...</th>\n",
       "      <td>...</td>\n",
       "      <td>...</td>\n",
       "    </tr>\n",
       "    <tr>\n",
       "      <th>1718</th>\n",
       "      <td>COC1=CC=C(C=C1)C2=NNC3=C2C(=O)C4=CC=CC=C43</td>\n",
       "      <td>9.421010</td>\n",
       "    </tr>\n",
       "    <tr>\n",
       "      <th>2028</th>\n",
       "      <td>CN1C=NC2=C1N=C(N=C2NCC3=CC=CC=C3)NCCO</td>\n",
       "      <td>9.335598</td>\n",
       "    </tr>\n",
       "    <tr>\n",
       "      <th>1358</th>\n",
       "      <td>COC1=CC=C(C=C1)CNC2=C3C4=CC=CC=C4OC3=NC=C2</td>\n",
       "      <td>9.231235</td>\n",
       "    </tr>\n",
       "    <tr>\n",
       "      <th>2020</th>\n",
       "      <td>C1=CC=C(C=C1)C2=C3C4=C(C=CC(=C4)O)OC3=NC=C2O</td>\n",
       "      <td>9.183455</td>\n",
       "    </tr>\n",
       "    <tr>\n",
       "      <th>1336</th>\n",
       "      <td>COC1=C(C=C2C(=C1)N=CN2C3=CC(=C(S3)C#N)OCC4=CC=...</td>\n",
       "      <td>6.789178</td>\n",
       "    </tr>\n",
       "  </tbody>\n",
       "</table>\n",
       "<p>2111 rows × 2 columns</p>\n",
       "</div>"
      ],
      "text/plain": [
       "                                                   drug     y_pred\n",
       "1364  CC1=C(C=C(C=C1)C(=O)NC2=CC(=C(C=C2)CN3CCN(CC3)...  14.825457\n",
       "1035       CC1=CC(=C(C2=C1C3=CC(=CC(=C3C(=O)O2)O)OC)O)O  14.763484\n",
       "1684  C1=CC=C2C(=C1)C=C(S2)C3=C(C4=CC=CC=C4N3CCCSC(=...  14.575788\n",
       "694   C1CCC(C1)N2C3=C(C(=N2)C4=CC(=C(C=C4)Cl)O)C(=NC...  14.493332\n",
       "1921  CC12C(C(CC(O1)N3C4=C(C=C(C=C4)O)C5=C6C(=C7C8=C...  14.479553\n",
       "...                                                 ...        ...\n",
       "1718         COC1=CC=C(C=C1)C2=NNC3=C2C(=O)C4=CC=CC=C43   9.421010\n",
       "2028              CN1C=NC2=C1N=C(N=C2NCC3=CC=CC=C3)NCCO   9.335598\n",
       "1358         COC1=CC=C(C=C1)CNC2=C3C4=CC=CC=C4OC3=NC=C2   9.231235\n",
       "2020       C1=CC=C(C=C1)C2=C3C4=C(C=CC(=C4)O)OC3=NC=C2O   9.183455\n",
       "1336  COC1=C(C=C2C(=C1)N=CN2C3=CC(=C(S3)C#N)OCC4=CC=...   6.789178\n",
       "\n",
       "[2111 rows x 2 columns]"
      ]
     },
     "execution_count": 21,
     "metadata": {},
     "output_type": "execute_result"
    }
   ],
   "source": [
    "d=c.sort_values(axis=0, ascending=False, by='y_pred')\n",
    "d"
   ]
  },
  {
   "cell_type": "code",
   "execution_count": 22,
   "metadata": {},
   "outputs": [
    {
     "data": {
      "text/html": [
       "<div>\n",
       "<style scoped>\n",
       "    .dataframe tbody tr th:only-of-type {\n",
       "        vertical-align: middle;\n",
       "    }\n",
       "\n",
       "    .dataframe tbody tr th {\n",
       "        vertical-align: top;\n",
       "    }\n",
       "\n",
       "    .dataframe thead th {\n",
       "        text-align: right;\n",
       "    }\n",
       "</style>\n",
       "<table border=\"1\" class=\"dataframe\">\n",
       "  <thead>\n",
       "    <tr style=\"text-align: right;\">\n",
       "      <th></th>\n",
       "      <th>drug</th>\n",
       "      <th>y_pred</th>\n",
       "    </tr>\n",
       "  </thead>\n",
       "  <tbody>\n",
       "    <tr>\n",
       "      <th>1364</th>\n",
       "      <td>CC1=C(C=C(C=C1)C(=O)NC2=CC(=C(C=C2)CN3CCN(CC3)...</td>\n",
       "      <td>14.825457</td>\n",
       "    </tr>\n",
       "    <tr>\n",
       "      <th>1035</th>\n",
       "      <td>CC1=CC(=C(C2=C1C3=CC(=CC(=C3C(=O)O2)O)OC)O)O</td>\n",
       "      <td>14.763484</td>\n",
       "    </tr>\n",
       "    <tr>\n",
       "      <th>1684</th>\n",
       "      <td>C1=CC=C2C(=C1)C=C(S2)C3=C(C4=CC=CC=C4N3CCCSC(=...</td>\n",
       "      <td>14.575788</td>\n",
       "    </tr>\n",
       "    <tr>\n",
       "      <th>694</th>\n",
       "      <td>C1CCC(C1)N2C3=C(C(=N2)C4=CC(=C(C=C4)Cl)O)C(=NC...</td>\n",
       "      <td>14.493332</td>\n",
       "    </tr>\n",
       "    <tr>\n",
       "      <th>1921</th>\n",
       "      <td>CC12C(C(CC(O1)N3C4=C(C=C(C=C4)O)C5=C6C(=C7C8=C...</td>\n",
       "      <td>14.479553</td>\n",
       "    </tr>\n",
       "    <tr>\n",
       "      <th>...</th>\n",
       "      <td>...</td>\n",
       "      <td>...</td>\n",
       "    </tr>\n",
       "    <tr>\n",
       "      <th>1991</th>\n",
       "      <td>CN1C2=C(C(=CN=C2)C3=CC=C(C=C3)NC(=O)NC4=CC(=CC...</td>\n",
       "      <td>12.109552</td>\n",
       "    </tr>\n",
       "    <tr>\n",
       "      <th>1692</th>\n",
       "      <td>C1CC(C(CNC1)NC(=O)C2=CC=C(C=C2)O)OC(=O)C3=CC(=...</td>\n",
       "      <td>12.108653</td>\n",
       "    </tr>\n",
       "    <tr>\n",
       "      <th>1811</th>\n",
       "      <td>CC1(CCC(C2=C1C=CC(=C2)C3=C(C4=CC=CC=C4N3CCCSC(...</td>\n",
       "      <td>12.107624</td>\n",
       "    </tr>\n",
       "    <tr>\n",
       "      <th>38</th>\n",
       "      <td>CC1CC2CN1CCN3C(=O)C4=C(N3)C(=CC=C4)C5=NC6=C(C=...</td>\n",
       "      <td>12.104974</td>\n",
       "    </tr>\n",
       "    <tr>\n",
       "      <th>71</th>\n",
       "      <td>CC(C)NCC1=CC=C(C=C1)NC2=CC(=C3C=CC(=C4C=CC(=O)...</td>\n",
       "      <td>12.103475</td>\n",
       "    </tr>\n",
       "  </tbody>\n",
       "</table>\n",
       "<p>417 rows × 2 columns</p>\n",
       "</div>"
      ],
      "text/plain": [
       "                                                   drug     y_pred\n",
       "1364  CC1=C(C=C(C=C1)C(=O)NC2=CC(=C(C=C2)CN3CCN(CC3)...  14.825457\n",
       "1035       CC1=CC(=C(C2=C1C3=CC(=CC(=C3C(=O)O2)O)OC)O)O  14.763484\n",
       "1684  C1=CC=C2C(=C1)C=C(S2)C3=C(C4=CC=CC=C4N3CCCSC(=...  14.575788\n",
       "694   C1CCC(C1)N2C3=C(C(=N2)C4=CC(=C(C=C4)Cl)O)C(=NC...  14.493332\n",
       "1921  CC12C(C(CC(O1)N3C4=C(C=C(C=C4)O)C5=C6C(=C7C8=C...  14.479553\n",
       "...                                                 ...        ...\n",
       "1991  CN1C2=C(C(=CN=C2)C3=CC=C(C=C3)NC(=O)NC4=CC(=CC...  12.109552\n",
       "1692  C1CC(C(CNC1)NC(=O)C2=CC=C(C=C2)O)OC(=O)C3=CC(=...  12.108653\n",
       "1811  CC1(CCC(C2=C1C=CC(=C2)C3=C(C4=CC=CC=C4N3CCCSC(...  12.107624\n",
       "38    CC1CC2CN1CCN3C(=O)C4=C(N3)C(=CC=C4)C5=NC6=C(C=...  12.104974\n",
       "71    CC(C)NCC1=CC=C(C=C1)NC2=CC(=C3C=CC(=C4C=CC(=O)...  12.103475\n",
       "\n",
       "[417 rows x 2 columns]"
      ]
     },
     "execution_count": 22,
     "metadata": {},
     "output_type": "execute_result"
    }
   ],
   "source": [
    "e=d[d.y_pred>=12.1]\n",
    "e"
   ]
  },
  {
   "cell_type": "code",
   "execution_count": 23,
   "metadata": {},
   "outputs": [],
   "source": [
    "e.to_csv('y_pred_TIE2_MORGAN_CNN_SORTED.csv')"
   ]
  },
  {
   "cell_type": "code",
   "execution_count": null,
   "metadata": {},
   "outputs": [],
   "source": []
  }
 ],
 "metadata": {
  "kernelspec": {
   "display_name": "Python 3",
   "language": "python",
   "name": "python3"
  },
  "language_info": {
   "codemirror_mode": {
    "name": "ipython",
    "version": 3
   },
   "file_extension": ".py",
   "mimetype": "text/x-python",
   "name": "python",
   "nbconvert_exporter": "python",
   "pygments_lexer": "ipython3",
   "version": "3.8.5"
  }
 },
 "nbformat": 4,
 "nbformat_minor": 2
}
