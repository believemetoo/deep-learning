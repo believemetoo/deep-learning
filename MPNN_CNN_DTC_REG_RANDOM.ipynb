{
 "cells": [
  {
   "cell_type": "code",
   "execution_count": 1,
   "metadata": {},
   "outputs": [],
   "source": [
    "import warnings\n",
    "warnings.filterwarnings(\"ignore\")"
   ]
  },
  {
   "cell_type": "code",
   "execution_count": 2,
   "metadata": {},
   "outputs": [
    {
     "name": "stderr",
     "output_type": "stream",
     "text": [
      "WARNING:root:No normalization for BCUT2D_MWHI\n",
      "WARNING:root:No normalization for BCUT2D_MWLOW\n",
      "WARNING:root:No normalization for BCUT2D_CHGHI\n",
      "WARNING:root:No normalization for BCUT2D_CHGLO\n",
      "WARNING:root:No normalization for BCUT2D_LOGPHI\n",
      "WARNING:root:No normalization for BCUT2D_LOGPLOW\n",
      "WARNING:root:No normalization for BCUT2D_MRHI\n",
      "WARNING:root:No normalization for BCUT2D_MRLOW\n"
     ]
    }
   ],
   "source": [
    "from DeepPurpose import utils, models, dataset\n",
    "from DeepPurpose.utils import *"
   ]
  },
  {
   "cell_type": "code",
   "execution_count": 3,
   "metadata": {},
   "outputs": [
    {
     "name": "stdout",
     "output_type": "stream",
     "text": [
      "/root/data/DeepPurpose\n"
     ]
    }
   ],
   "source": [
    "import numpy as np\n",
    "import pandas as pd\n",
    "import json\n",
    "import os \n",
    "print(os.path.abspath('.'))"
   ]
  },
  {
   "cell_type": "code",
   "execution_count": 4,
   "metadata": {},
   "outputs": [
    {
     "name": "stdout",
     "output_type": "stream",
     "text": [
      "Done!\n"
     ]
    }
   ],
   "source": [
    "Smile = np.load(\"DTC_smiles_reg.npy\", allow_pickle=True)\n",
    "Target = np.load(\"DTC_targets_reg.npy\", allow_pickle=True)\n",
    "y = np.load(\"DTC_y_reg.npy\", allow_pickle=True)\n",
    "print('Done!')"
   ]
  },
  {
   "cell_type": "code",
   "execution_count": 5,
   "metadata": {},
   "outputs": [
    {
     "name": "stdout",
     "output_type": "stream",
     "text": [
      "Drug 1: CCCN1C(C)=CC=C2C(=O)NC(N)N=C21\n",
      "Target 1: MVGSLNCIVAVSQNMGIGKNGDLPWPPLRNEFRYFQRMTTTSSVEGKQNLVIMGKKTWFSIPEKNRPLKGRINLVLSRELKEPPQGAHFLSRSLDDALKLTEQPELANKVDMVWIVGGSSVYKEAMNHPGHLKLFVTRIMQDFESDTFFPEIDLEKYKLLPEYPGVLSDVQEEKGIKYKFEVYEKND\n",
      "Score 1: 9.221848749616356\n"
     ]
    }
   ],
   "source": [
    "X_drugs, X_targets, y = Smile, Target, y\n",
    "print('Drug 1: ' + X_drugs[0])\n",
    "print('Target 1: ' + X_targets[0])\n",
    "print('Score 1: ' + str(y[0]))"
   ]
  },
  {
   "cell_type": "code",
   "execution_count": 6,
   "metadata": {},
   "outputs": [
    {
     "data": {
      "text/plain": [
       "(61479,)"
      ]
     },
     "execution_count": 6,
     "metadata": {},
     "output_type": "execute_result"
    }
   ],
   "source": [
    "y.shape"
   ]
  },
  {
   "cell_type": "code",
   "execution_count": 7,
   "metadata": {},
   "outputs": [],
   "source": [
    "drug_encoding, target_encoding = 'MPNN', 'CNN'"
   ]
  },
  {
   "cell_type": "code",
   "execution_count": 8,
   "metadata": {
    "scrolled": true
   },
   "outputs": [
    {
     "name": "stdout",
     "output_type": "stream",
     "text": [
      "in total: 61479 drug-target pairs\n",
      "encoding drug...\n",
      "unique drugs: 7626\n",
      "drug encoding finished...\n",
      "encoding protein...\n",
      "unique target sequence: 895\n",
      "protein encoding finished...\n",
      "splitting dataset...\n",
      "Done.\n"
     ]
    },
    {
     "data": {
      "text/html": [
       "<div>\n",
       "<style scoped>\n",
       "    .dataframe tbody tr th:only-of-type {\n",
       "        vertical-align: middle;\n",
       "    }\n",
       "\n",
       "    .dataframe tbody tr th {\n",
       "        vertical-align: top;\n",
       "    }\n",
       "\n",
       "    .dataframe thead th {\n",
       "        text-align: right;\n",
       "    }\n",
       "</style>\n",
       "<table border=\"1\" class=\"dataframe\">\n",
       "  <thead>\n",
       "    <tr style=\"text-align: right;\">\n",
       "      <th></th>\n",
       "      <th>SMILES</th>\n",
       "      <th>Target Sequence</th>\n",
       "      <th>Label</th>\n",
       "      <th>drug_encoding</th>\n",
       "      <th>target_encoding</th>\n",
       "    </tr>\n",
       "  </thead>\n",
       "  <tbody>\n",
       "    <tr>\n",
       "      <th>0</th>\n",
       "      <td>CCCN1C(C)=CC=C2C(=O)NC(N)N=C21</td>\n",
       "      <td>MVGSLNCIVAVSQNMGIGKNGDLPWPPLRNEFRYFQRMTTTSSVEG...</td>\n",
       "      <td>9.221849</td>\n",
       "      <td>[[[tensor(1.), tensor(0.), tensor(0.), tensor(...</td>\n",
       "      <td>[M, V, G, S, L, N, C, I, V, A, V, S, Q, N, M, ...</td>\n",
       "    </tr>\n",
       "  </tbody>\n",
       "</table>\n",
       "</div>"
      ],
      "text/plain": [
       "                           SMILES  \\\n",
       "0  CCCN1C(C)=CC=C2C(=O)NC(N)N=C21   \n",
       "\n",
       "                                     Target Sequence     Label  \\\n",
       "0  MVGSLNCIVAVSQNMGIGKNGDLPWPPLRNEFRYFQRMTTTSSVEG...  9.221849   \n",
       "\n",
       "                                       drug_encoding  \\\n",
       "0  [[[tensor(1.), tensor(0.), tensor(0.), tensor(...   \n",
       "\n",
       "                                     target_encoding  \n",
       "0  [M, V, G, S, L, N, C, I, V, A, V, S, Q, N, M, ...  "
      ]
     },
     "execution_count": 8,
     "metadata": {},
     "output_type": "execute_result"
    }
   ],
   "source": [
    "train, val, test = utils.data_process(X_drugs, X_targets, y, \n",
    "                                drug_encoding, target_encoding, \n",
    "                                split_method='random',frac=[0.8,0.1,0.1],\n",
    "                                random_seed = 1)\n",
    "train.head(1)"
   ]
  },
  {
   "cell_type": "code",
   "execution_count": 9,
   "metadata": {},
   "outputs": [
    {
     "data": {
      "text/plain": [
       "{'input_dim_drug': 1024,\n",
       " 'input_dim_protein': 8420,\n",
       " 'hidden_dim_drug': 256,\n",
       " 'hidden_dim_protein': 256,\n",
       " 'cls_hidden_dims': [1024, 1024, 512],\n",
       " 'batch_size': 1024,\n",
       " 'train_epoch': 150,\n",
       " 'test_every_X_epoch': 20,\n",
       " 'LR': 0.001,\n",
       " 'drug_encoding': 'MPNN',\n",
       " 'target_encoding': 'CNN',\n",
       " 'result_folder': './result/',\n",
       " 'binary': False,\n",
       " 'num_workers': 10,\n",
       " 'mpnn_hidden_size': 50,\n",
       " 'mpnn_depth': 3,\n",
       " 'cnn_target_filters': [32, 64, 96],\n",
       " 'cnn_target_kernels': [4, 8, 12],\n",
       " 'decay': 0}"
      ]
     },
     "execution_count": 9,
     "metadata": {},
     "output_type": "execute_result"
    }
   ],
   "source": [
    "# use pre-trained model\n",
    "model = models.model_pretrained(path_dir = './pre-trained/MPNN_CNN_DTC_RANDOM/')\n",
    "model.config"
   ]
  },
  {
   "cell_type": "code",
   "execution_count": 10,
   "metadata": {},
   "outputs": [
    {
     "data": {
      "text/plain": [
       "'\\nconfig = utils.generate_config(drug_encoding = drug_encoding, \\n                         target_encoding = target_encoding, \\n                         #cls_hidden_dims = [1024,1024,512], \\n                         train_epoch = 50, \\n                         #test_every_X_epoch = 10, \\n                         LR = 0.001, \\n                         #decay = 0.001,\\n                         batch_size = 1024,\\n                         #hidden_dim_drug = 128,\\n                         #mpnn_hidden_size = 128,\\n                         #mpnn_depth = 3, \\n                         #cnn_drug_filters = [32,64,96],\\n                         #cnn_drug_kernels = [4,6,8], \\n                         #cnn_target_filters = [32,64,96],\\n                         #cnn_target_kernels = [4,8,12],\\n                         #transformer_n_layer_target = 2,\\n                         num_workers = 10\\n                              )\\n'"
      ]
     },
     "execution_count": 10,
     "metadata": {},
     "output_type": "execute_result"
    }
   ],
   "source": [
    "'''\n",
    "config = utils.generate_config(drug_encoding = drug_encoding, \n",
    "                         target_encoding = target_encoding, \n",
    "                         #cls_hidden_dims = [1024,1024,512], \n",
    "                         train_epoch = 50, \n",
    "                         #test_every_X_epoch = 10, \n",
    "                         LR = 0.001, \n",
    "                         #decay = 0.001,\n",
    "                         batch_size = 1024,\n",
    "                         #hidden_dim_drug = 128,\n",
    "                         #mpnn_hidden_size = 128,\n",
    "                         #mpnn_depth = 3, \n",
    "                         #cnn_drug_filters = [32,64,96],\n",
    "                         #cnn_drug_kernels = [4,6,8], \n",
    "                         #cnn_target_filters = [32,64,96],\n",
    "                         #cnn_target_kernels = [4,8,12],\n",
    "                         #transformer_n_layer_target = 2,\n",
    "                         num_workers = 10\n",
    "                              )\n",
    "'''"
   ]
  },
  {
   "cell_type": "code",
   "execution_count": 11,
   "metadata": {},
   "outputs": [],
   "source": [
    "#model = models.model_initialize(**config)"
   ]
  },
  {
   "cell_type": "code",
   "execution_count": 12,
   "metadata": {},
   "outputs": [],
   "source": [
    "model.config['train_epoch'] = 50\n",
    "#model.config['batch_size'] = 1024"
   ]
  },
  {
   "cell_type": "code",
   "execution_count": 13,
   "metadata": {},
   "outputs": [
    {
     "name": "stdout",
     "output_type": "stream",
     "text": [
      "Let's use 1 GPU!\n",
      "--- Data Preparation ---\n",
      "--- Go for Training ---\n",
      "Training at Epoch 1 iteration 0 with loss 0.16887. Total time 0.00166 hours\n",
      "Validation at Epoch 1 , MSE: 0.31884 , Pearson Correlation: 0.88970 with p-value: 0.0 , Concordance Index: 0.89476\n",
      "Training at Epoch 2 iteration 0 with loss 0.18897. Total time 0.04305 hours\n",
      "Validation at Epoch 2 , MSE: 0.29970 , Pearson Correlation: 0.89555 with p-value: 0.0 , Concordance Index: 0.89709\n",
      "Training at Epoch 3 iteration 0 with loss 0.18312. Total time 0.08416 hours\n",
      "Validation at Epoch 3 , MSE: 0.30591 , Pearson Correlation: 0.89214 with p-value: 0.0 , Concordance Index: 0.89521\n",
      "Training at Epoch 4 iteration 0 with loss 0.14412. Total time 0.12555 hours\n",
      "Validation at Epoch 4 , MSE: 0.36093 , Pearson Correlation: 0.89028 with p-value: 0.0 , Concordance Index: 0.89496\n",
      "Training at Epoch 5 iteration 0 with loss 0.21163. Total time 0.16694 hours\n",
      "Validation at Epoch 5 , MSE: 0.31404 , Pearson Correlation: 0.89460 with p-value: 0.0 , Concordance Index: 0.89784\n",
      "Training at Epoch 6 iteration 0 with loss 0.17734. Total time 0.20833 hours\n",
      "Validation at Epoch 6 , MSE: 0.30863 , Pearson Correlation: 0.89446 with p-value: 0.0 , Concordance Index: 0.89514\n",
      "Training at Epoch 7 iteration 0 with loss 0.18142. Total time 0.24972 hours\n",
      "Validation at Epoch 7 , MSE: 0.32191 , Pearson Correlation: 0.89121 with p-value: 0.0 , Concordance Index: 0.89400\n",
      "Training at Epoch 8 iteration 0 with loss 0.16205. Total time 0.29111 hours\n",
      "Validation at Epoch 8 , MSE: 0.30508 , Pearson Correlation: 0.89364 with p-value: 0.0 , Concordance Index: 0.89403\n",
      "Training at Epoch 9 iteration 0 with loss 0.17495. Total time 0.33305 hours\n",
      "Validation at Epoch 9 , MSE: 0.31644 , Pearson Correlation: 0.89004 with p-value: 0.0 , Concordance Index: 0.89395\n",
      "Training at Epoch 10 iteration 0 with loss 0.16056. Total time 0.37444 hours\n",
      "Validation at Epoch 10 , MSE: 0.30513 , Pearson Correlation: 0.89264 with p-value: 0.0 , Concordance Index: 0.89517\n",
      "Training at Epoch 11 iteration 0 with loss 0.17173. Total time 0.41583 hours\n",
      "Validation at Epoch 11 , MSE: 0.33727 , Pearson Correlation: 0.89027 with p-value: 0.0 , Concordance Index: 0.89046\n",
      "Training at Epoch 12 iteration 0 with loss 0.16418. Total time 0.45722 hours\n",
      "Validation at Epoch 12 , MSE: 0.32299 , Pearson Correlation: 0.89577 with p-value: 0.0 , Concordance Index: 0.89758\n",
      "Training at Epoch 13 iteration 0 with loss 0.19645. Total time 0.49861 hours\n",
      "Validation at Epoch 13 , MSE: 0.31413 , Pearson Correlation: 0.89201 with p-value: 0.0 , Concordance Index: 0.89685\n",
      "Training at Epoch 14 iteration 0 with loss 0.15461. Total time 0.54 hours\n",
      "Validation at Epoch 14 , MSE: 0.30644 , Pearson Correlation: 0.89326 with p-value: 0.0 , Concordance Index: 0.89835\n",
      "Training at Epoch 15 iteration 0 with loss 0.13667. Total time 0.58166 hours\n",
      "Validation at Epoch 15 , MSE: 0.30481 , Pearson Correlation: 0.89320 with p-value: 0.0 , Concordance Index: 0.89622\n",
      "Training at Epoch 16 iteration 0 with loss 0.14639. Total time 0.62305 hours\n",
      "Validation at Epoch 16 , MSE: 0.30167 , Pearson Correlation: 0.89492 with p-value: 0.0 , Concordance Index: 0.89678\n",
      "Training at Epoch 17 iteration 0 with loss 0.16924. Total time 0.66444 hours\n",
      "Validation at Epoch 17 , MSE: 0.34792 , Pearson Correlation: 0.89271 with p-value: 0.0 , Concordance Index: 0.90006\n",
      "Training at Epoch 18 iteration 0 with loss 0.18333. Total time 0.70638 hours\n",
      "Validation at Epoch 18 , MSE: 0.31446 , Pearson Correlation: 0.89425 with p-value: 0.0 , Concordance Index: 0.89705\n",
      "Training at Epoch 19 iteration 0 with loss 0.15303. Total time 0.74833 hours\n",
      "Validation at Epoch 19 , MSE: 0.30779 , Pearson Correlation: 0.89346 with p-value: 0.0 , Concordance Index: 0.89476\n",
      "Training at Epoch 20 iteration 0 with loss 0.13122. Total time 0.78972 hours\n",
      "Validation at Epoch 20 , MSE: 0.28392 , Pearson Correlation: 0.90000 with p-value: 0.0 , Concordance Index: 0.90138\n",
      "Training at Epoch 21 iteration 0 with loss 0.13117. Total time 0.83166 hours\n",
      "Validation at Epoch 21 , MSE: 0.30560 , Pearson Correlation: 0.89734 with p-value: 0.0 , Concordance Index: 0.89824\n",
      "Training at Epoch 22 iteration 0 with loss 0.13763. Total time 0.87305 hours\n",
      "Validation at Epoch 22 , MSE: 0.30194 , Pearson Correlation: 0.89728 with p-value: 0.0 , Concordance Index: 0.89890\n",
      "Training at Epoch 23 iteration 0 with loss 0.13826. Total time 0.91638 hours\n",
      "Validation at Epoch 23 , MSE: 0.29786 , Pearson Correlation: 0.89655 with p-value: 0.0 , Concordance Index: 0.90167\n",
      "Training at Epoch 24 iteration 0 with loss 0.15789. Total time 0.96 hours\n",
      "Validation at Epoch 24 , MSE: 0.33872 , Pearson Correlation: 0.89006 with p-value: 0.0 , Concordance Index: 0.89361\n",
      "Training at Epoch 25 iteration 0 with loss 0.16333. Total time 1.00333 hours\n",
      "Validation at Epoch 25 , MSE: 0.29718 , Pearson Correlation: 0.89614 with p-value: 0.0 , Concordance Index: 0.89764\n",
      "Training at Epoch 26 iteration 0 with loss 0.14933. Total time 1.04722 hours\n",
      "Validation at Epoch 26 , MSE: 0.33280 , Pearson Correlation: 0.89326 with p-value: 0.0 , Concordance Index: 0.89862\n",
      "Training at Epoch 27 iteration 0 with loss 0.14895. Total time 1.09027 hours\n",
      "Validation at Epoch 27 , MSE: 0.29901 , Pearson Correlation: 0.89513 with p-value: 0.0 , Concordance Index: 0.89512\n",
      "Training at Epoch 28 iteration 0 with loss 0.12955. Total time 1.13222 hours\n",
      "Validation at Epoch 28 , MSE: 0.30784 , Pearson Correlation: 0.89630 with p-value: 0.0 , Concordance Index: 0.90038\n",
      "Training at Epoch 29 iteration 0 with loss 0.16444. Total time 1.17444 hours\n",
      "Validation at Epoch 29 , MSE: 0.30055 , Pearson Correlation: 0.89403 with p-value: 0.0 , Concordance Index: 0.89761\n",
      "Training at Epoch 30 iteration 0 with loss 0.13794. Total time 1.21722 hours\n",
      "Validation at Epoch 30 , MSE: 0.30321 , Pearson Correlation: 0.89888 with p-value: 0.0 , Concordance Index: 0.90122\n",
      "Training at Epoch 31 iteration 0 with loss 0.12115. Total time 1.25972 hours\n",
      "Validation at Epoch 31 , MSE: 0.35466 , Pearson Correlation: 0.89381 with p-value: 0.0 , Concordance Index: 0.89660\n",
      "Training at Epoch 32 iteration 0 with loss 0.17184. Total time 1.30222 hours\n",
      "Validation at Epoch 32 , MSE: 0.30626 , Pearson Correlation: 0.89609 with p-value: 0.0 , Concordance Index: 0.89550\n",
      "Training at Epoch 33 iteration 0 with loss 0.15140. Total time 1.345 hours\n",
      "Validation at Epoch 33 , MSE: 0.29817 , Pearson Correlation: 0.89862 with p-value: 0.0 , Concordance Index: 0.90308\n",
      "Training at Epoch 34 iteration 0 with loss 0.14099. Total time 1.38805 hours\n",
      "Validation at Epoch 34 , MSE: 0.30674 , Pearson Correlation: 0.89686 with p-value: 0.0 , Concordance Index: 0.89773\n",
      "Training at Epoch 35 iteration 0 with loss 0.13139. Total time 1.43138 hours\n",
      "Validation at Epoch 35 , MSE: 0.29775 , Pearson Correlation: 0.89708 with p-value: 0.0 , Concordance Index: 0.90085\n",
      "Training at Epoch 36 iteration 0 with loss 0.13917. Total time 1.47444 hours\n",
      "Validation at Epoch 36 , MSE: 0.29252 , Pearson Correlation: 0.89743 with p-value: 0.0 , Concordance Index: 0.89979\n",
      "Training at Epoch 37 iteration 0 with loss 0.14668. Total time 1.51722 hours\n",
      "Validation at Epoch 37 , MSE: 0.29083 , Pearson Correlation: 0.89783 with p-value: 0.0 , Concordance Index: 0.89501\n",
      "Training at Epoch 38 iteration 0 with loss 0.12337. Total time 1.55972 hours\n",
      "Validation at Epoch 38 , MSE: 0.29230 , Pearson Correlation: 0.89858 with p-value: 0.0 , Concordance Index: 0.90105\n",
      "Training at Epoch 39 iteration 0 with loss 0.14610. Total time 1.60277 hours\n",
      "Validation at Epoch 39 , MSE: 0.29422 , Pearson Correlation: 0.89773 with p-value: 0.0 , Concordance Index: 0.89959\n",
      "Training at Epoch 40 iteration 0 with loss 0.12531. Total time 1.64583 hours\n",
      "Validation at Epoch 40 , MSE: 0.30500 , Pearson Correlation: 0.90228 with p-value: 0.0 , Concordance Index: 0.90297\n",
      "Training at Epoch 41 iteration 0 with loss 0.15943. Total time 1.68944 hours\n",
      "Validation at Epoch 41 , MSE: 0.28225 , Pearson Correlation: 0.90252 with p-value: 0.0 , Concordance Index: 0.90398\n",
      "Training at Epoch 42 iteration 0 with loss 0.12557. Total time 1.73222 hours\n",
      "Validation at Epoch 42 , MSE: 0.30736 , Pearson Correlation: 0.90104 with p-value: 0.0 , Concordance Index: 0.90497\n",
      "Training at Epoch 43 iteration 0 with loss 0.15441. Total time 1.77555 hours\n",
      "Validation at Epoch 43 , MSE: 0.28997 , Pearson Correlation: 0.89948 with p-value: 0.0 , Concordance Index: 0.90214\n",
      "Training at Epoch 44 iteration 0 with loss 0.15600. Total time 1.81861 hours\n",
      "Validation at Epoch 44 , MSE: 0.28885 , Pearson Correlation: 0.89925 with p-value: 0.0 , Concordance Index: 0.90184\n",
      "Training at Epoch 45 iteration 0 with loss 0.12542. Total time 1.86166 hours\n",
      "Validation at Epoch 45 , MSE: 0.31472 , Pearson Correlation: 0.90110 with p-value: 0.0 , Concordance Index: 0.90386\n",
      "Training at Epoch 46 iteration 0 with loss 0.16125. Total time 1.90305 hours\n",
      "Validation at Epoch 46 , MSE: 0.27631 , Pearson Correlation: 0.90361 with p-value: 0.0 , Concordance Index: 0.90701\n",
      "Training at Epoch 47 iteration 0 with loss 0.10737. Total time 1.94444 hours\n",
      "Validation at Epoch 47 , MSE: 0.28581 , Pearson Correlation: 0.90057 with p-value: 0.0 , Concordance Index: 0.90222\n",
      "Training at Epoch 48 iteration 0 with loss 0.12007. Total time 1.98583 hours\n",
      "Validation at Epoch 48 , MSE: 0.28575 , Pearson Correlation: 0.90120 with p-value: 0.0 , Concordance Index: 0.90357\n",
      "Training at Epoch 49 iteration 0 with loss 0.10903. Total time 2.02861 hours\n",
      "Validation at Epoch 49 , MSE: 0.28984 , Pearson Correlation: 0.89903 with p-value: 0.0 , Concordance Index: 0.90330\n",
      "Training at Epoch 50 iteration 0 with loss 0.14752. Total time 2.07138 hours\n",
      "Validation at Epoch 50 , MSE: 0.30490 , Pearson Correlation: 0.89612 with p-value: 0.0 , Concordance Index: 0.89511\n",
      "--- Go for Testing ---\n",
      "Testing MSE: 0.28247738742085515 , Pearson Correlation: 0.9033538858695775 with p-value: 0.0 , Concordance Index: 0.9019509335498006\n",
      "--- Training Finished ---\n"
     ]
    },
    {
     "data": {
      "image/png": "[encoded data removed]",
      "text/plain": [
       "<Figure size 432x288 with 1 Axes>"
      ]
     },
     "metadata": {
      "needs_background": "light"
     },
     "output_type": "display_data"
    }
   ],
   "source": [
    "model.train(train, val, test)"
   ]
  },
  {
   "cell_type": "code",
   "execution_count": 14,
   "metadata": {},
   "outputs": [],
   "source": [
    "model.save_model('./model_MPNN_CNN_DTC_RANDOM')"
   ]
  },
  {
   "cell_type": "code",
   "execution_count": null,
   "metadata": {},
   "outputs": [],
   "source": []
  }
 ],
 "metadata": {
  "kernelspec": {
   "display_name": "Python 3",
   "language": "python",
   "name": "python3"
  },
  "language_info": {
   "codemirror_mode": {
    "name": "ipython",
    "version": 3
   },
   "file_extension": ".py",
   "mimetype": "text/x-python",
   "name": "python",
   "nbconvert_exporter": "python",
   "pygments_lexer": "ipython3",
   "version": "3.8.5"
  }
 },
 "nbformat": 4,
 "nbformat_minor": 2
}
