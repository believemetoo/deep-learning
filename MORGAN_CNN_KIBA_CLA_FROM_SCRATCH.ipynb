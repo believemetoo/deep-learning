{
 "cells": [
  {
   "cell_type": "code",
   "execution_count": 1,
   "metadata": {},
   "outputs": [],
   "source": [
    "import warnings\n",
    "warnings.filterwarnings(\"ignore\")"
   ]
  },
  {
   "cell_type": "code",
   "execution_count": null,
   "metadata": {},
   "outputs": [],
   "source": [
    "from DeepPurpose import utils, models, dataset"
   ]
  },
  {
   "cell_type": "code",
   "execution_count": null,
   "metadata": {},
   "outputs": [],
   "source": [
    "import numpy as np\n",
    "import pandas as pd\n",
    "import json\n",
    "import os \n",
    "print(os.path.abspath('.'))"
   ]
  },
  {
   "cell_type": "code",
   "execution_count": 4,
   "metadata": {},
   "outputs": [
    {
     "name": "stdout",
     "output_type": "stream",
     "text": [
      "Done!\n"
     ]
    }
   ],
   "source": [
    "affinity = pd.read_csv('affinity.txt', header=None, sep = '\\t')\n",
    "affinity = affinity.fillna(-1)\n",
    "\n",
    "with open('target_seq.txt') as f:\n",
    "    target = json.load(f)\n",
    "\n",
    "with open('SMILES.txt') as f:\n",
    "    drug = json.load(f)\n",
    "\n",
    "target = list(target.values())\n",
    "drug = list(drug.values())\n",
    "\n",
    "SMILES = []\n",
    "Target_seq = []\n",
    "y = []\n",
    "\n",
    "for i in range(len(drug)):\n",
    "    for j in range(len(target)):\n",
    "        if affinity.values[i, j] != -1:\n",
    "            SMILES.append(drug[i])\n",
    "            Target_seq.append(target[j])\n",
    "            y.append(affinity.values[i, j])\n",
    "\n",
    "Smile, Target, y = np.array(SMILES), np.array(Target_seq), np.array(y)\n",
    "print('Done!')"
   ]
  },
  {
   "cell_type": "code",
   "execution_count": 5,
   "metadata": {},
   "outputs": [
    {
     "name": "stdout",
     "output_type": "stream",
     "text": [
      "in total: 118254 drug-target pairs\n"
     ]
    }
   ],
   "source": [
    "df_data = pd.DataFrame(zip(Smile, Target, y))\n",
    "df_data.rename(columns={0:'SMILES',\n",
    "\t\t\t\t\t\t1: 'Target_Sequence',\n",
    "\t\t\t\t\t\t2: 'Label'}, \n",
    "\t\t\t\t\t\tinplace=True)\n",
    "print('in total: ' + str(len(df_data)) + ' drug-target pairs')"
   ]
  },
  {
   "cell_type": "code",
   "execution_count": 6,
   "metadata": {},
   "outputs": [
    {
     "data": {
      "text/html": [
       "<div>\n",
       "<style scoped>\n",
       "    .dataframe tbody tr th:only-of-type {\n",
       "        vertical-align: middle;\n",
       "    }\n",
       "\n",
       "    .dataframe tbody tr th {\n",
       "        vertical-align: top;\n",
       "    }\n",
       "\n",
       "    .dataframe thead th {\n",
       "        text-align: right;\n",
       "    }\n",
       "</style>\n",
       "<table border=\"1\" class=\"dataframe\">\n",
       "  <thead>\n",
       "    <tr style=\"text-align: right;\">\n",
       "      <th></th>\n",
       "      <th>SMILES</th>\n",
       "      <th>Target_Sequence</th>\n",
       "      <th>Label</th>\n",
       "    </tr>\n",
       "  </thead>\n",
       "  <tbody>\n",
       "    <tr>\n",
       "      <th>0</th>\n",
       "      <td>COC1=C(C=C2C(=C1)CCN=C2C3=CC(=C(C=C3)Cl)Cl)Cl</td>\n",
       "      <td>MTVKTEAAKGTLTYSRMRGMVAILIAFMKQRRMGLNDFIQKIANNS...</td>\n",
       "      <td>11.1</td>\n",
       "    </tr>\n",
       "    <tr>\n",
       "      <th>1</th>\n",
       "      <td>COC1=C(C=C2C(=C1)CCN=C2C3=CC(=C(C=C3)Cl)Cl)Cl</td>\n",
       "      <td>MSWSPSLTTQTCGAWEMKERLGTGGFGNVIRWHNQETGEQIAIKQC...</td>\n",
       "      <td>11.1</td>\n",
       "    </tr>\n",
       "    <tr>\n",
       "      <th>2</th>\n",
       "      <td>COC1=C(C=C2C(=C1)CCN=C2C3=CC(=C(C=C3)Cl)Cl)Cl</td>\n",
       "      <td>MERPPGLRPGAGGPWEMRERLGTGGFGNVCLYQHRELDLKIAIKSC...</td>\n",
       "      <td>11.1</td>\n",
       "    </tr>\n",
       "    <tr>\n",
       "      <th>3</th>\n",
       "      <td>COC1=C(C=C2C(=C1)CCN=C2C3=CC(=C(C=C3)Cl)Cl)Cl</td>\n",
       "      <td>MRPSGTAGAALLALLAALCPASRALEEKKVCQGTSNKLTQLGTFED...</td>\n",
       "      <td>11.1</td>\n",
       "    </tr>\n",
       "    <tr>\n",
       "      <th>4</th>\n",
       "      <td>COC1=C(C=C2C(=C1)CCN=C2C3=CC(=C(C=C3)Cl)Cl)Cl</td>\n",
       "      <td>MELAALCRWGLLLALLPPGAASTQVCTGTDMKLRLPASPETHLDML...</td>\n",
       "      <td>11.1</td>\n",
       "    </tr>\n",
       "  </tbody>\n",
       "</table>\n",
       "</div>"
      ],
      "text/plain": [
       "                                          SMILES  \\\n",
       "0  COC1=C(C=C2C(=C1)CCN=C2C3=CC(=C(C=C3)Cl)Cl)Cl   \n",
       "1  COC1=C(C=C2C(=C1)CCN=C2C3=CC(=C(C=C3)Cl)Cl)Cl   \n",
       "2  COC1=C(C=C2C(=C1)CCN=C2C3=CC(=C(C=C3)Cl)Cl)Cl   \n",
       "3  COC1=C(C=C2C(=C1)CCN=C2C3=CC(=C(C=C3)Cl)Cl)Cl   \n",
       "4  COC1=C(C=C2C(=C1)CCN=C2C3=CC(=C(C=C3)Cl)Cl)Cl   \n",
       "\n",
       "                                     Target_Sequence  Label  \n",
       "0  MTVKTEAAKGTLTYSRMRGMVAILIAFMKQRRMGLNDFIQKIANNS...   11.1  \n",
       "1  MSWSPSLTTQTCGAWEMKERLGTGGFGNVIRWHNQETGEQIAIKQC...   11.1  \n",
       "2  MERPPGLRPGAGGPWEMRERLGTGGFGNVCLYQHRELDLKIAIKSC...   11.1  \n",
       "3  MRPSGTAGAALLALLAALCPASRALEEKKVCQGTSNKLTQLGTFED...   11.1  \n",
       "4  MELAALCRWGLLLALLPPGAASTQVCTGTDMKLRLPASPETHLDML...   11.1  "
      ]
     },
     "execution_count": 6,
     "metadata": {},
     "output_type": "execute_result"
    }
   ],
   "source": [
    "df_data.head()"
   ]
  },
  {
   "cell_type": "code",
   "execution_count": 7,
   "metadata": {},
   "outputs": [],
   "source": [
    "y_cal = [1 if i else 0 for i in df_data.Label.values > 12.1]"
   ]
  },
  {
   "cell_type": "code",
   "execution_count": 8,
   "metadata": {},
   "outputs": [],
   "source": [
    "y_cal2 = np.array(y_cal)"
   ]
  },
  {
   "cell_type": "code",
   "execution_count": 10,
   "metadata": {},
   "outputs": [
    {
     "name": "stdout",
     "output_type": "stream",
     "text": [
      "Drug 1: COC1=C(C=C2C(=C1)CCN=C2C3=CC(=C(C=C3)Cl)Cl)Cl\n",
      "Target 1: MTVKTEAAKGTLTYSRMRGMVAILIAFMKQRRMGLNDFIQKIANNSYACKHPEVQSILKISQPQEPELMNANPSPPPSPSQQINLGPSSNPHAKPSDFHFLKVIGKGSFGKVLLARHKAEEVFYAVKVLQKKAILKKKEEKHIMSERNVLLKNVKHPFLVGLHFSFQTADKLYFVLDYINGGELFYHLQRERCFLEPRARFYAAEIASALGYLHSLNIVYRDLKPENILLDSQGHIVLTDFGLCKENIEHNSTTSTFCGTPEYLAPEVLHKQPYDRTVDWWCLGAVLYEMLYGLPPFYSRNTAEMYDNILNKPLQLKPNITNSARHLLEGLLQKDRTKRLGAKDDFMEIKSHVFFSLINWDDLINKKITPPFNPNVSGPNDLRHFDPEFTEEPVPNSIGKSPDSVLVTASVKEAAEAFLGFSYAPPTDSFL\n",
      "Score 1: 0\n"
     ]
    }
   ],
   "source": [
    "# replace y with y_cal2\n",
    "X_drugs, X_targets, y = Smile, Target, y_cal2\n",
    "print('Drug 1: ' + X_drugs[0])\n",
    "print('Target 1: ' + X_targets[0])\n",
    "print('Score 1: ' + str(y[0]))"
   ]
  },
  {
   "cell_type": "code",
   "execution_count": 11,
   "metadata": {},
   "outputs": [],
   "source": [
    "drug_encoding, target_encoding = 'Morgan', 'CNN'"
   ]
  },
  {
   "cell_type": "code",
   "execution_count": 12,
   "metadata": {},
   "outputs": [
    {
     "name": "stdout",
     "output_type": "stream",
     "text": [
      "Drug Target Interaction Prediction Mode...\n",
      "in total: 118254 drug-target pairs\n",
      "encoding drug...\n",
      "unique drugs: 2068\n",
      "encoding protein...\n",
      "unique target sequence: 229\n",
      "splitting dataset...\n",
      "Done.\n"
     ]
    },
    {
     "data": {
      "text/html": [
       "<div>\n",
       "<style scoped>\n",
       "    .dataframe tbody tr th:only-of-type {\n",
       "        vertical-align: middle;\n",
       "    }\n",
       "\n",
       "    .dataframe tbody tr th {\n",
       "        vertical-align: top;\n",
       "    }\n",
       "\n",
       "    .dataframe thead th {\n",
       "        text-align: right;\n",
       "    }\n",
       "</style>\n",
       "<table border=\"1\" class=\"dataframe\">\n",
       "  <thead>\n",
       "    <tr style=\"text-align: right;\">\n",
       "      <th></th>\n",
       "      <th>SMILES</th>\n",
       "      <th>Target Sequence</th>\n",
       "      <th>Label</th>\n",
       "      <th>drug_encoding</th>\n",
       "      <th>target_encoding</th>\n",
       "    </tr>\n",
       "  </thead>\n",
       "  <tbody>\n",
       "    <tr>\n",
       "      <th>0</th>\n",
       "      <td>COC1=C(C=C2C(=C1)CCN=C2C3=CC(=C(C=C3)Cl)Cl)Cl</td>\n",
       "      <td>MTVKTEAAKGTLTYSRMRGMVAILIAFMKQRRMGLNDFIQKIANNS...</td>\n",
       "      <td>0</td>\n",
       "      <td>[0.0, 0.0, 0.0, 0.0, 0.0, 0.0, 0.0, 0.0, 0.0, ...</td>\n",
       "      <td>[M, T, V, K, T, E, A, A, K, G, T, L, T, Y, S, ...</td>\n",
       "    </tr>\n",
       "  </tbody>\n",
       "</table>\n",
       "</div>"
      ],
      "text/plain": [
       "                                          SMILES  \\\n",
       "0  COC1=C(C=C2C(=C1)CCN=C2C3=CC(=C(C=C3)Cl)Cl)Cl   \n",
       "\n",
       "                                     Target Sequence  Label  \\\n",
       "0  MTVKTEAAKGTLTYSRMRGMVAILIAFMKQRRMGLNDFIQKIANNS...      0   \n",
       "\n",
       "                                       drug_encoding  \\\n",
       "0  [0.0, 0.0, 0.0, 0.0, 0.0, 0.0, 0.0, 0.0, 0.0, ...   \n",
       "\n",
       "                                     target_encoding  \n",
       "0  [M, T, V, K, T, E, A, A, K, G, T, L, T, Y, S, ...  "
      ]
     },
     "execution_count": 12,
     "metadata": {},
     "output_type": "execute_result"
    }
   ],
   "source": [
    "train, val, test = utils.data_process(X_drugs, X_targets, y, \n",
    "                                drug_encoding, target_encoding, \n",
    "                                split_method='train_full',frac=[0.8,0.1,0.1],\n",
    "                                random_seed = 1)\n",
    "train.head(1)"
   ]
  },
  {
   "cell_type": "code",
   "execution_count": 13,
   "metadata": {},
   "outputs": [],
   "source": [
    "# use pre-trained model\n",
    "#model = models.model_pretrained(path_dir = './')\n",
    "#model.config"
   ]
  },
  {
   "cell_type": "code",
   "execution_count": 14,
   "metadata": {},
   "outputs": [],
   "source": [
    "\n",
    "config = utils.generate_config(drug_encoding = drug_encoding, \n",
    "                         target_encoding = target_encoding, \n",
    "                         cls_hidden_dims = [1024,1024,512], \n",
    "                         train_epoch = 50, \n",
    "                         test_every_X_epoch = 10, \n",
    "                         LR = 0.001, \n",
    "                         #decay = 0.001,\n",
    "                         batch_size = 512,\n",
    "                         #hidden_dim_drug = 128,\n",
    "                         #mpnn_hidden_size = 128,\n",
    "                         #mpnn_depth = 4, \n",
    "                         cnn_target_filters = [32,64,96],\n",
    "                         cnn_target_kernels = [4,8,12],\n",
    "                         num_workers = 10\n",
    "                              )\n"
   ]
  },
  {
   "cell_type": "code",
   "execution_count": 15,
   "metadata": {},
   "outputs": [],
   "source": [
    "model = models.model_initialize(**config)"
   ]
  },
  {
   "cell_type": "code",
   "execution_count": null,
   "metadata": {},
   "outputs": [],
   "source": [
    "model.config"
   ]
  },
  {
   "cell_type": "code",
   "execution_count": 16,
   "metadata": {},
   "outputs": [],
   "source": [
    "#model.config['train_epoch'] = 50"
   ]
  },
  {
   "cell_type": "code",
   "execution_count": 17,
   "metadata": {},
   "outputs": [
    {
     "name": "stdout",
     "output_type": "stream",
     "text": [
      "Let's use 1 GPU!\n",
      "--- Data Preparation ---\n",
      "--- Go for Training ---\n",
      "Training at Epoch 1 iteration 0 with loss 0.68065. Total time 0.00027 hours\n",
      "Training at Epoch 1 iteration 100 with loss 0.38657. Total time 0.0125 hours\n",
      "Training at Epoch 1 iteration 200 with loss 0.34387. Total time 0.025 hours\n",
      "Validation at Epoch 1 , AUROC: 0.86271 , AUPRC: 0.65409 , F1: 0.48523\n",
      "Training at Epoch 2 iteration 0 with loss 0.33759. Total time 0.03138 hours\n",
      "Training at Epoch 2 iteration 100 with loss 0.35265. Total time 0.04388 hours\n",
      "Training at Epoch 2 iteration 200 with loss 0.34033. Total time 0.05611 hours\n",
      "Validation at Epoch 2 , AUROC: 0.87012 , AUPRC: 0.66987 , F1: 0.59581\n",
      "Training at Epoch 3 iteration 0 with loss 0.33387. Total time 0.0625 hours\n",
      "Training at Epoch 3 iteration 100 with loss 0.37164. Total time 0.075 hours\n",
      "Training at Epoch 3 iteration 200 with loss 0.30311. Total time 0.08722 hours\n",
      "Validation at Epoch 3 , AUROC: 0.89362 , AUPRC: 0.72442 , F1: 0.60005\n",
      "Training at Epoch 4 iteration 0 with loss 0.29136. Total time 0.09361 hours\n",
      "Training at Epoch 4 iteration 100 with loss 0.31928. Total time 0.10611 hours\n",
      "Training at Epoch 4 iteration 200 with loss 0.25659. Total time 0.11833 hours\n",
      "Validation at Epoch 4 , AUROC: 0.91068 , AUPRC: 0.76603 , F1: 0.63921\n",
      "Training at Epoch 5 iteration 0 with loss 0.27521. Total time 0.12472 hours\n",
      "Training at Epoch 5 iteration 100 with loss 0.25077. Total time 0.13722 hours\n",
      "Training at Epoch 5 iteration 200 with loss 0.28617. Total time 0.14944 hours\n",
      "Validation at Epoch 5 , AUROC: 0.92270 , AUPRC: 0.79256 , F1: 0.67107\n",
      "Training at Epoch 6 iteration 0 with loss 0.22893. Total time 0.15583 hours\n",
      "Training at Epoch 6 iteration 100 with loss 0.26784. Total time 0.16805 hours\n",
      "Training at Epoch 6 iteration 200 with loss 0.24281. Total time 0.18055 hours\n",
      "Validation at Epoch 6 , AUROC: 0.93036 , AUPRC: 0.80939 , F1: 0.68264\n",
      "Training at Epoch 7 iteration 0 with loss 0.21931. Total time 0.18694 hours\n",
      "Training at Epoch 7 iteration 100 with loss 0.22149. Total time 0.19916 hours\n",
      "Training at Epoch 7 iteration 200 with loss 0.23648. Total time 0.21138 hours\n",
      "Validation at Epoch 7 , AUROC: 0.93575 , AUPRC: 0.81857 , F1: 0.68010\n",
      "Training at Epoch 8 iteration 0 with loss 0.23152. Total time 0.21777 hours\n",
      "Training at Epoch 8 iteration 100 with loss 0.27171. Total time 0.23027 hours\n",
      "Training at Epoch 8 iteration 200 with loss 0.27989. Total time 0.2425 hours\n",
      "Validation at Epoch 8 , AUROC: 0.94077 , AUPRC: 0.83107 , F1: 0.70918\n",
      "Training at Epoch 9 iteration 0 with loss 0.26242. Total time 0.24888 hours\n",
      "Training at Epoch 9 iteration 100 with loss 0.24558. Total time 0.26138 hours\n",
      "Training at Epoch 9 iteration 200 with loss 0.20565. Total time 0.27361 hours\n",
      "Validation at Epoch 9 , AUROC: 0.94330 , AUPRC: 0.83553 , F1: 0.69978\n",
      "Training at Epoch 10 iteration 0 with loss 0.24586. Total time 0.28 hours\n",
      "Training at Epoch 10 iteration 100 with loss 0.24771. Total time 0.2925 hours\n",
      "Training at Epoch 10 iteration 200 with loss 0.20358. Total time 0.30472 hours\n",
      "Validation at Epoch 10 , AUROC: 0.94539 , AUPRC: 0.83878 , F1: 0.72080\n",
      "Training at Epoch 11 iteration 0 with loss 0.22845. Total time 0.31111 hours\n",
      "Training at Epoch 11 iteration 100 with loss 0.22616. Total time 0.32333 hours\n",
      "Training at Epoch 11 iteration 200 with loss 0.25990. Total time 0.33583 hours\n",
      "Validation at Epoch 11 , AUROC: 0.94953 , AUPRC: 0.84925 , F1: 0.73260\n",
      "Training at Epoch 12 iteration 0 with loss 0.25761. Total time 0.34222 hours\n",
      "Training at Epoch 12 iteration 100 with loss 0.26447. Total time 0.35444 hours\n",
      "Training at Epoch 12 iteration 200 with loss 0.30723. Total time 0.36694 hours\n",
      "Validation at Epoch 12 , AUROC: 0.95107 , AUPRC: 0.85359 , F1: 0.74242\n",
      "Training at Epoch 13 iteration 0 with loss 0.22884. Total time 0.37333 hours\n",
      "Training at Epoch 13 iteration 100 with loss 0.26281. Total time 0.38555 hours\n",
      "Training at Epoch 13 iteration 200 with loss 0.21131. Total time 0.39805 hours\n",
      "Validation at Epoch 13 , AUROC: 0.95251 , AUPRC: 0.85889 , F1: 0.75843\n",
      "Training at Epoch 14 iteration 0 with loss 0.22784. Total time 0.40444 hours\n",
      "Training at Epoch 14 iteration 100 with loss 0.20278. Total time 0.41666 hours\n",
      "Training at Epoch 14 iteration 200 with loss 0.25356. Total time 0.42916 hours\n",
      "Validation at Epoch 14 , AUROC: 0.95417 , AUPRC: 0.86629 , F1: 0.76111\n",
      "Training at Epoch 15 iteration 0 with loss 0.21728. Total time 0.43555 hours\n",
      "Training at Epoch 15 iteration 100 with loss 0.18950. Total time 0.44777 hours\n",
      "Training at Epoch 15 iteration 200 with loss 0.23800. Total time 0.46027 hours\n",
      "Validation at Epoch 15 , AUROC: 0.95735 , AUPRC: 0.87312 , F1: 0.75518\n",
      "Training at Epoch 16 iteration 0 with loss 0.20837. Total time 0.46666 hours\n",
      "Training at Epoch 16 iteration 100 with loss 0.17943. Total time 0.47888 hours\n",
      "Training at Epoch 16 iteration 200 with loss 0.21560. Total time 0.49138 hours\n",
      "Validation at Epoch 16 , AUROC: 0.95920 , AUPRC: 0.88052 , F1: 0.76545\n",
      "Training at Epoch 17 iteration 0 with loss 0.18909. Total time 0.49777 hours\n",
      "Training at Epoch 17 iteration 100 with loss 0.21901. Total time 0.51 hours\n",
      "Training at Epoch 17 iteration 200 with loss 0.21416. Total time 0.52222 hours\n",
      "Validation at Epoch 17 , AUROC: 0.96298 , AUPRC: 0.88812 , F1: 0.77819\n",
      "Training at Epoch 18 iteration 0 with loss 0.19035. Total time 0.52861 hours\n",
      "Training at Epoch 18 iteration 100 with loss 0.19306. Total time 0.54111 hours\n",
      "Training at Epoch 18 iteration 200 with loss 0.21863. Total time 0.55333 hours\n",
      "Validation at Epoch 18 , AUROC: 0.96532 , AUPRC: 0.89517 , F1: 0.78068\n",
      "Training at Epoch 19 iteration 0 with loss 0.17388. Total time 0.55972 hours\n",
      "Training at Epoch 19 iteration 100 with loss 0.18763. Total time 0.57222 hours\n",
      "Training at Epoch 19 iteration 200 with loss 0.19844. Total time 0.58444 hours\n",
      "Validation at Epoch 19 , AUROC: 0.96776 , AUPRC: 0.90101 , F1: 0.78700\n",
      "Training at Epoch 20 iteration 0 with loss 0.16145. Total time 0.59083 hours\n",
      "Training at Epoch 20 iteration 100 with loss 0.22762. Total time 0.60333 hours\n",
      "Training at Epoch 20 iteration 200 with loss 0.22431. Total time 0.61555 hours\n",
      "Validation at Epoch 20 , AUROC: 0.96643 , AUPRC: 0.90071 , F1: 0.79733\n",
      "Training at Epoch 21 iteration 0 with loss 0.20622. Total time 0.62194 hours\n",
      "Training at Epoch 21 iteration 100 with loss 0.16137. Total time 0.63444 hours\n",
      "Training at Epoch 21 iteration 200 with loss 0.42120. Total time 0.64666 hours\n",
      "Validation at Epoch 21 , AUROC: 0.96873 , AUPRC: 0.90247 , F1: 0.80154\n",
      "Training at Epoch 22 iteration 0 with loss 0.17282. Total time 0.65305 hours\n",
      "Training at Epoch 22 iteration 100 with loss 0.18334. Total time 0.66527 hours\n",
      "Training at Epoch 22 iteration 200 with loss 0.16796. Total time 0.67777 hours\n",
      "Validation at Epoch 22 , AUROC: 0.97111 , AUPRC: 0.91288 , F1: 0.81925\n",
      "Training at Epoch 23 iteration 0 with loss 0.18129. Total time 0.68416 hours\n",
      "Training at Epoch 23 iteration 100 with loss 0.20751. Total time 0.69638 hours\n",
      "Training at Epoch 23 iteration 200 with loss 0.17387. Total time 0.70888 hours\n",
      "Validation at Epoch 23 , AUROC: 0.97438 , AUPRC: 0.91970 , F1: 0.82097\n",
      "Training at Epoch 24 iteration 0 with loss 0.17585. Total time 0.71527 hours\n",
      "Training at Epoch 24 iteration 100 with loss 0.18932. Total time 0.7275 hours\n",
      "Training at Epoch 24 iteration 200 with loss 0.18783. Total time 0.73972 hours\n",
      "Validation at Epoch 24 , AUROC: 0.97318 , AUPRC: 0.91869 , F1: 0.81869\n",
      "Training at Epoch 25 iteration 0 with loss 0.12785. Total time 0.74611 hours\n",
      "Training at Epoch 25 iteration 100 with loss 0.14249. Total time 0.75861 hours\n",
      "Training at Epoch 25 iteration 200 with loss 0.18152. Total time 0.77083 hours\n",
      "Validation at Epoch 25 , AUROC: 0.97543 , AUPRC: 0.92069 , F1: 0.81715\n",
      "Training at Epoch 26 iteration 0 with loss 0.14100. Total time 0.77722 hours\n",
      "Training at Epoch 26 iteration 100 with loss 0.16260. Total time 0.78972 hours\n",
      "Training at Epoch 26 iteration 200 with loss 0.15290. Total time 0.80194 hours\n",
      "Validation at Epoch 26 , AUROC: 0.97727 , AUPRC: 0.92729 , F1: 0.82627\n",
      "Training at Epoch 27 iteration 0 with loss 0.16958. Total time 0.80833 hours\n",
      "Training at Epoch 27 iteration 100 with loss 0.17820. Total time 0.82083 hours\n",
      "Training at Epoch 27 iteration 200 with loss 0.14109. Total time 0.83305 hours\n"
     ]
    },
    {
     "name": "stdout",
     "output_type": "stream",
     "text": [
      "Validation at Epoch 27 , AUROC: 0.97868 , AUPRC: 0.93232 , F1: 0.84075\n",
      "Training at Epoch 28 iteration 0 with loss 0.12651. Total time 0.83944 hours\n",
      "Training at Epoch 28 iteration 100 with loss 0.15408. Total time 0.85194 hours\n",
      "Training at Epoch 28 iteration 200 with loss 0.15303. Total time 0.86416 hours\n",
      "Validation at Epoch 28 , AUROC: 0.98104 , AUPRC: 0.93807 , F1: 0.84310\n",
      "Training at Epoch 29 iteration 0 with loss 0.13076. Total time 0.87055 hours\n",
      "Training at Epoch 29 iteration 100 with loss 0.15908. Total time 0.88305 hours\n",
      "Training at Epoch 29 iteration 200 with loss 0.12110. Total time 0.89527 hours\n",
      "Validation at Epoch 29 , AUROC: 0.98146 , AUPRC: 0.93641 , F1: 0.84980\n",
      "Training at Epoch 30 iteration 0 with loss 0.13549. Total time 0.90166 hours\n",
      "Training at Epoch 30 iteration 100 with loss 0.14137. Total time 0.91388 hours\n",
      "Training at Epoch 30 iteration 200 with loss 0.13157. Total time 0.92638 hours\n",
      "Validation at Epoch 30 , AUROC: 0.98381 , AUPRC: 0.94519 , F1: 0.85482\n",
      "Training at Epoch 31 iteration 0 with loss 0.13238. Total time 0.93277 hours\n",
      "Training at Epoch 31 iteration 100 with loss 0.15383. Total time 0.945 hours\n",
      "Training at Epoch 31 iteration 200 with loss 0.12545. Total time 0.9575 hours\n",
      "Validation at Epoch 31 , AUROC: 0.98483 , AUPRC: 0.94970 , F1: 0.86215\n",
      "Training at Epoch 32 iteration 0 with loss 0.11971. Total time 0.96388 hours\n",
      "Training at Epoch 32 iteration 100 with loss 0.13403. Total time 0.97611 hours\n",
      "Training at Epoch 32 iteration 200 with loss 0.13202. Total time 0.98861 hours\n",
      "Validation at Epoch 32 , AUROC: 0.98514 , AUPRC: 0.94788 , F1: 0.86444\n",
      "Training at Epoch 33 iteration 0 with loss 0.11211. Total time 0.995 hours\n",
      "Training at Epoch 33 iteration 100 with loss 0.13191. Total time 1.00722 hours\n",
      "Training at Epoch 33 iteration 200 with loss 0.14787. Total time 1.01972 hours\n",
      "Validation at Epoch 33 , AUROC: 0.98793 , AUPRC: 0.95802 , F1: 0.87166\n",
      "Training at Epoch 34 iteration 0 with loss 0.11993. Total time 1.02611 hours\n",
      "Training at Epoch 34 iteration 100 with loss 0.11441. Total time 1.03833 hours\n",
      "Training at Epoch 34 iteration 200 with loss 0.10399. Total time 1.05083 hours\n",
      "Validation at Epoch 34 , AUROC: 0.98845 , AUPRC: 0.96040 , F1: 0.87814\n",
      "Training at Epoch 35 iteration 0 with loss 0.11897. Total time 1.05722 hours\n",
      "Training at Epoch 35 iteration 100 with loss 0.13672. Total time 1.06944 hours\n",
      "Training at Epoch 35 iteration 200 with loss 0.12662. Total time 1.08166 hours\n",
      "Validation at Epoch 35 , AUROC: 0.99001 , AUPRC: 0.96345 , F1: 0.88233\n",
      "Training at Epoch 36 iteration 0 with loss 0.12092. Total time 1.08833 hours\n",
      "Training at Epoch 36 iteration 100 with loss 0.11830. Total time 1.10055 hours\n",
      "Training at Epoch 36 iteration 200 with loss 0.13321. Total time 1.11277 hours\n",
      "Validation at Epoch 36 , AUROC: 0.99012 , AUPRC: 0.96483 , F1: 0.88919\n",
      "Training at Epoch 37 iteration 0 with loss 0.09875. Total time 1.11944 hours\n",
      "Training at Epoch 37 iteration 100 with loss 0.10272. Total time 1.13166 hours\n",
      "Training at Epoch 37 iteration 200 with loss 0.10620. Total time 1.14388 hours\n",
      "Validation at Epoch 37 , AUROC: 0.99170 , AUPRC: 0.96887 , F1: 0.89492\n",
      "Training at Epoch 38 iteration 0 with loss 0.11183. Total time 1.15027 hours\n",
      "Training at Epoch 38 iteration 100 with loss 0.12313. Total time 1.16277 hours\n",
      "Training at Epoch 38 iteration 200 with loss 0.08345. Total time 1.175 hours\n",
      "Validation at Epoch 38 , AUROC: 0.99118 , AUPRC: 0.96864 , F1: 0.89385\n",
      "Training at Epoch 39 iteration 0 with loss 0.11007. Total time 1.18138 hours\n",
      "Training at Epoch 39 iteration 100 with loss 0.12968. Total time 1.19361 hours\n",
      "Training at Epoch 39 iteration 200 with loss 0.10748. Total time 1.20611 hours\n",
      "Validation at Epoch 39 , AUROC: 0.99328 , AUPRC: 0.97483 , F1: 0.90787\n",
      "Training at Epoch 40 iteration 0 with loss 0.08201. Total time 1.2125 hours\n",
      "Training at Epoch 40 iteration 100 with loss 0.13249. Total time 1.22472 hours\n",
      "Training at Epoch 40 iteration 200 with loss 0.14685. Total time 1.23722 hours\n",
      "Validation at Epoch 40 , AUROC: 0.99395 , AUPRC: 0.97681 , F1: 0.91146\n",
      "Training at Epoch 41 iteration 0 with loss 0.08321. Total time 1.24361 hours\n",
      "Training at Epoch 41 iteration 100 with loss 0.09597. Total time 1.25583 hours\n",
      "Training at Epoch 41 iteration 200 with loss 0.10714. Total time 1.26805 hours\n",
      "Validation at Epoch 41 , AUROC: 0.99457 , AUPRC: 0.97944 , F1: 0.91472\n",
      "Training at Epoch 42 iteration 0 with loss 0.09091. Total time 1.27444 hours\n",
      "Training at Epoch 42 iteration 100 with loss 0.11643. Total time 1.28694 hours\n",
      "Training at Epoch 42 iteration 200 with loss 0.10521. Total time 1.29916 hours\n",
      "Validation at Epoch 42 , AUROC: 0.99494 , AUPRC: 0.98069 , F1: 0.91961\n",
      "Training at Epoch 43 iteration 0 with loss 0.08111. Total time 1.30555 hours\n",
      "Training at Epoch 43 iteration 100 with loss 0.09092. Total time 1.31805 hours\n",
      "Training at Epoch 43 iteration 200 with loss 0.07236. Total time 1.33027 hours\n",
      "Validation at Epoch 43 , AUROC: 0.99492 , AUPRC: 0.97745 , F1: 0.92112\n",
      "Training at Epoch 44 iteration 0 with loss 0.09114. Total time 1.33666 hours\n",
      "Training at Epoch 44 iteration 100 with loss 0.09454. Total time 1.34916 hours\n",
      "Training at Epoch 44 iteration 200 with loss 0.09790. Total time 1.36138 hours\n",
      "Validation at Epoch 44 , AUROC: 0.99578 , AUPRC: 0.98391 , F1: 0.92471\n",
      "Training at Epoch 45 iteration 0 with loss 0.07483. Total time 1.36777 hours\n",
      "Training at Epoch 45 iteration 100 with loss 0.12410. Total time 1.38 hours\n",
      "Training at Epoch 45 iteration 200 with loss 0.08062. Total time 1.3925 hours\n",
      "Validation at Epoch 45 , AUROC: 0.99637 , AUPRC: 0.98568 , F1: 0.92783\n",
      "Training at Epoch 46 iteration 0 with loss 0.09033. Total time 1.39888 hours\n",
      "Training at Epoch 46 iteration 100 with loss 0.06764. Total time 1.41111 hours\n",
      "Training at Epoch 46 iteration 200 with loss 0.08859. Total time 1.42333 hours\n",
      "Validation at Epoch 46 , AUROC: 0.99701 , AUPRC: 0.98841 , F1: 0.93953\n",
      "Training at Epoch 47 iteration 0 with loss 0.07262. Total time 1.42972 hours\n",
      "Training at Epoch 47 iteration 100 with loss 0.06351. Total time 1.44222 hours\n",
      "Training at Epoch 47 iteration 200 with loss 0.08717. Total time 1.45444 hours\n",
      "Validation at Epoch 47 , AUROC: 0.99718 , AUPRC: 0.98912 , F1: 0.93951\n",
      "Training at Epoch 48 iteration 0 with loss 0.09398. Total time 1.46083 hours\n",
      "Training at Epoch 48 iteration 100 with loss 0.09295. Total time 1.47305 hours\n",
      "Training at Epoch 48 iteration 200 with loss 0.09621. Total time 1.48555 hours\n",
      "Validation at Epoch 48 , AUROC: 0.99726 , AUPRC: 0.98952 , F1: 0.94179\n",
      "Training at Epoch 49 iteration 0 with loss 0.07615. Total time 1.49194 hours\n",
      "Training at Epoch 49 iteration 100 with loss 0.07903. Total time 1.50416 hours\n",
      "Training at Epoch 49 iteration 200 with loss 0.11755. Total time 1.51638 hours\n",
      "Validation at Epoch 49 , AUROC: 0.99728 , AUPRC: 0.98950 , F1: 0.94408\n",
      "Training at Epoch 50 iteration 0 with loss 0.07869. Total time 1.52277 hours\n",
      "Training at Epoch 50 iteration 100 with loss 0.08052. Total time 1.53527 hours\n",
      "Training at Epoch 50 iteration 200 with loss 0.07114. Total time 1.5475 hours\n",
      "Validation at Epoch 50 , AUROC: 0.99818 , AUPRC: 0.99261 , F1: 0.95272\n",
      "--- Go for Testing ---\n",
      "Testing AUROC: 0.9981808520599251 , AUPRC: 0.9926126614685444 , F1: 0.9527289335464717\n",
      "--- Training Finished ---\n"
     ]
    },
    {
     "data": {
      "image/png": "[encoded data removed]",
      "text/plain": [
       "<Figure size 432x288 with 1 Axes>"
      ]
     },
     "metadata": {
      "needs_background": "light"
     },
     "output_type": "display_data"
    },
    {
     "data": {
      "image/png": "[encoded data removed]",
      "text/plain": [
       "<Figure size 432x288 with 1 Axes>"
      ]
     },
     "metadata": {
      "needs_background": "light"
     },
     "output_type": "display_data"
    },
    {
     "data": {
      "image/png": "[encoded data removed]",
      "text/plain": [
       "<Figure size 432x288 with 1 Axes>"
      ]
     },
     "metadata": {
      "needs_background": "light"
     },
     "output_type": "display_data"
    }
   ],
   "source": [
    "model.train(train, val, test)"
   ]
  },
  {
   "cell_type": "code",
   "execution_count": 18,
   "metadata": {},
   "outputs": [],
   "source": [
    "model.save_model('./model_MORGAN_CNN_KIBA_CLA')"
   ]
  },
  {
   "cell_type": "code",
   "execution_count": null,
   "metadata": {},
   "outputs": [],
   "source": []
  }
 ],
 "metadata": {
  "kernelspec": {
   "display_name": "Python 3",
   "language": "python",
   "name": "python3"
  },
  "language_info": {
   "codemirror_mode": {
    "name": "ipython",
    "version": 3
   },
   "file_extension": ".py",
   "mimetype": "text/x-python",
   "name": "python",
   "nbconvert_exporter": "python",
   "pygments_lexer": "ipython3",
   "version": "3.8.5"
  }
 },
 "nbformat": 4,
 "nbformat_minor": 2
}
